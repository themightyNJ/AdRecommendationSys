{
  "nbformat": 4,
  "nbformat_minor": 0,
  "metadata": {
    "colab": {
      "name": "AdRecommendationSys.ipynb",
      "provenance": [],
      "collapsed_sections": [],
      "authorship_tag": "ABX9TyOVD3ipgzCdcai56WAvZh+y",
      "include_colab_link": true
    },
    "kernelspec": {
      "name": "python3",
      "display_name": "Python 3"
    }
  },
  "cells": [
    {
      "cell_type": "markdown",
      "metadata": {
        "id": "view-in-github",
        "colab_type": "text"
      },
      "source": [
        "<a href=\"https://colab.research.google.com/github/themightyNJ/AdRecommendationSys/blob/master/AdRecommendationSys.ipynb\" target=\"_parent\"><img src=\"https://colab.research.google.com/assets/colab-badge.svg\" alt=\"Open In Colab\"/></a>"
      ]
    },
    {
      "cell_type": "code",
      "metadata": {
        "id": "l80uVI0tmhwI",
        "colab_type": "code",
        "colab": {}
      },
      "source": [
        "'''Exploratory Data Analysis Libraries'''\n",
        "import pandas as pd\n",
        "import numpy as np\n",
        "import seaborn as sns\n",
        "import matplotlib.pyplot as plt\n",
        "%matplotlib inline "
      ],
      "execution_count": 0,
      "outputs": []
    },
    {
      "cell_type": "code",
      "metadata": {
        "id": "ZshtH6JO8DAM",
        "colab_type": "code",
        "outputId": "7325bfaf-7987-4168-9f91-b4cb35d7262a",
        "colab": {
          "base_uri": "https://localhost:8080/",
          "height": 313
        }
      },
      "source": [
        "'''Internship Survey Dataset'''\n",
        "dataPath = \"https://raw.githubusercontent.com/themightyNJ/AdRecommendationSys/master/survey.json\"\n",
        "surveyData = pd.read_json(dataPath)\n",
        "surveyData.head()"
      ],
      "execution_count": 9,
      "outputs": [
        {
          "output_type": "execute_result",
          "data": {
            "text/html": [
              "<div>\n",
              "<style scoped>\n",
              "    .dataframe tbody tr th:only-of-type {\n",
              "        vertical-align: middle;\n",
              "    }\n",
              "\n",
              "    .dataframe tbody tr th {\n",
              "        vertical-align: top;\n",
              "    }\n",
              "\n",
              "    .dataframe thead th {\n",
              "        text-align: right;\n",
              "    }\n",
              "</style>\n",
              "<table border=\"1\" class=\"dataframe\">\n",
              "  <thead>\n",
              "    <tr style=\"text-align: right;\">\n",
              "      <th></th>\n",
              "      <th>Timestamp</th>\n",
              "      <th>Email address</th>\n",
              "      <th>Name</th>\n",
              "      <th>Branch</th>\n",
              "      <th>Year</th>\n",
              "      <th>Hard Skills/Level</th>\n",
              "      <th>Future Interests</th>\n",
              "      <th>If you get an opportunity for internship then which field from the above list will be your priority?</th>\n",
              "    </tr>\n",
              "  </thead>\n",
              "  <tbody>\n",
              "    <tr>\n",
              "      <th>0</th>\n",
              "      <td>2020-07-01 14:05:00</td>\n",
              "      <td>abhijitjha.aj@gmail.com</td>\n",
              "      <td>Abhijit Shekhar Jha</td>\n",
              "      <td>EEE</td>\n",
              "      <td>3rd</td>\n",
              "      <td>Matlab,Plc -scada,IOT</td>\n",
              "      <td>python_programming, digital_marketing, artific...</td>\n",
              "      <td>Artificial intelligence</td>\n",
              "    </tr>\n",
              "    <tr>\n",
              "      <th>1</th>\n",
              "      <td>2020-07-01 14:16:13</td>\n",
              "      <td>vg222000@gmail.com</td>\n",
              "      <td>Vaibhav Gupta</td>\n",
              "      <td>ECE</td>\n",
              "      <td>3rd</td>\n",
              "      <td>C(intermediate), python (advanced)</td>\n",
              "      <td>machine_learning, android</td>\n",
              "      <td>Python programming</td>\n",
              "    </tr>\n",
              "    <tr>\n",
              "      <th>2</th>\n",
              "      <td>2020-07-01 14:19:42</td>\n",
              "      <td>vishwajit1704@gmail.com</td>\n",
              "      <td>Vishwajit Verma</td>\n",
              "      <td>EEE</td>\n",
              "      <td>3rd</td>\n",
              "      <td>C/C++, PLC SCADA, Arduino,IOT</td>\n",
              "      <td>python_programming, machine_learning, web_deve...</td>\n",
              "      <td>SCADA, IOT, C/C++</td>\n",
              "    </tr>\n",
              "    <tr>\n",
              "      <th>3</th>\n",
              "      <td>2020-07-01 14:57:40</td>\n",
              "      <td>sapra.ritvik@gmail.com</td>\n",
              "      <td>Ritvik Sapra</td>\n",
              "      <td>ECE</td>\n",
              "      <td>3rd</td>\n",
              "      <td>RPA/basic, python/advanced, R/advanced, ML/adv...</td>\n",
              "      <td>python_programming, machine_learning, artifici...</td>\n",
              "      <td>Blockchain or AI</td>\n",
              "    </tr>\n",
              "    <tr>\n",
              "      <th>4</th>\n",
              "      <td>2020-07-01 15:20:42</td>\n",
              "      <td>adityakumar9246@gmail.com</td>\n",
              "      <td>Aditya kumar</td>\n",
              "      <td>MAE</td>\n",
              "      <td>2nd</td>\n",
              "      <td>IC engines for next gen</td>\n",
              "      <td>machine_learning</td>\n",
              "      <td>Machine design</td>\n",
              "    </tr>\n",
              "  </tbody>\n",
              "</table>\n",
              "</div>"
            ],
            "text/plain": [
              "            Timestamp  ... If you get an opportunity for internship then which field from the above list will be your priority?\n",
              "0 2020-07-01 14:05:00  ...                            Artificial intelligence                                                  \n",
              "1 2020-07-01 14:16:13  ...                                 Python programming                                                  \n",
              "2 2020-07-01 14:19:42  ...                                  SCADA, IOT, C/C++                                                  \n",
              "3 2020-07-01 14:57:40  ...                                   Blockchain or AI                                                  \n",
              "4 2020-07-01 15:20:42  ...                                     Machine design                                                  \n",
              "\n",
              "[5 rows x 8 columns]"
            ]
          },
          "metadata": {
            "tags": []
          },
          "execution_count": 9
        }
      ]
    },
    {
      "cell_type": "code",
      "metadata": {
        "id": "bQNDDYQN8hYu",
        "colab_type": "code",
        "colab": {}
      },
      "source": [
        "'''Filtering Dataset'''\n",
        "uselessColumns = [\"Timestamp\",\"Branch\",\"Year\",\"Email address\"]\n",
        "surveyData = surveyData.drop(uselessColumns, axis = 1)"
      ],
      "execution_count": 0,
      "outputs": []
    },
    {
      "cell_type": "code",
      "metadata": {
        "id": "3uZFotRD9RlG",
        "colab_type": "code",
        "colab": {}
      },
      "source": [
        "surveyData.rename(columns = {'If you get an opportunity for internship then which field from the above list will be your priority?':'Highly Interested'}, inplace = True)"
      ],
      "execution_count": 0,
      "outputs": []
    },
    {
      "cell_type": "code",
      "metadata": {
        "id": "gHRXJJEpB44g",
        "colab_type": "code",
        "outputId": "4b4e0963-390e-4b0c-f1f9-14899714711c",
        "colab": {
          "base_uri": "https://localhost:8080/",
          "height": 168
        }
      },
      "source": [
        "userInterest = surveyData[[\"Hard Skills/Level\",\"Future Interests\",\"Highly Interested\"]]\n",
        "print(userInterest.info())"
      ],
      "execution_count": 14,
      "outputs": [
        {
          "output_type": "stream",
          "text": [
            "<class 'pandas.core.frame.DataFrame'>\n",
            "RangeIndex: 139 entries, 0 to 138\n",
            "Data columns (total 3 columns):\n",
            "Hard Skills/Level    139 non-null object\n",
            "Future Interests     139 non-null object\n",
            "Highly Interested    139 non-null object\n",
            "dtypes: object(3)\n",
            "memory usage: 3.4+ KB\n",
            "None\n"
          ],
          "name": "stdout"
        }
      ]
    },
    {
      "cell_type": "code",
      "metadata": {
        "id": "8ZOHfxNxDmdI",
        "colab_type": "code",
        "colab": {
          "base_uri": "https://localhost:8080/",
          "height": 195
        },
        "outputId": "052374df-0da4-4ad2-9dac-c4d5faaed7a3"
      },
      "source": [
        "userInterest.head()"
      ],
      "execution_count": 17,
      "outputs": [
        {
          "output_type": "execute_result",
          "data": {
            "text/html": [
              "<div>\n",
              "<style scoped>\n",
              "    .dataframe tbody tr th:only-of-type {\n",
              "        vertical-align: middle;\n",
              "    }\n",
              "\n",
              "    .dataframe tbody tr th {\n",
              "        vertical-align: top;\n",
              "    }\n",
              "\n",
              "    .dataframe thead th {\n",
              "        text-align: right;\n",
              "    }\n",
              "</style>\n",
              "<table border=\"1\" class=\"dataframe\">\n",
              "  <thead>\n",
              "    <tr style=\"text-align: right;\">\n",
              "      <th></th>\n",
              "      <th>Hard Skills/Level</th>\n",
              "      <th>Future Interests</th>\n",
              "      <th>Highly Interested</th>\n",
              "    </tr>\n",
              "  </thead>\n",
              "  <tbody>\n",
              "    <tr>\n",
              "      <th>0</th>\n",
              "      <td>Matlab,Plc -scada,IOT</td>\n",
              "      <td>python_programming, digital_marketing, artific...</td>\n",
              "      <td>Artificial intelligence</td>\n",
              "    </tr>\n",
              "    <tr>\n",
              "      <th>1</th>\n",
              "      <td>C(intermediate), python (advanced)</td>\n",
              "      <td>machine_learning, android</td>\n",
              "      <td>Python programming</td>\n",
              "    </tr>\n",
              "    <tr>\n",
              "      <th>2</th>\n",
              "      <td>C/C++, PLC SCADA, Arduino,IOT</td>\n",
              "      <td>python_programming, machine_learning, web_deve...</td>\n",
              "      <td>SCADA, IOT, C/C++</td>\n",
              "    </tr>\n",
              "    <tr>\n",
              "      <th>3</th>\n",
              "      <td>RPA/basic, python/advanced, R/advanced, ML/adv...</td>\n",
              "      <td>python_programming, machine_learning, artifici...</td>\n",
              "      <td>Blockchain or AI</td>\n",
              "    </tr>\n",
              "    <tr>\n",
              "      <th>4</th>\n",
              "      <td>IC engines for next gen</td>\n",
              "      <td>machine_learning</td>\n",
              "      <td>Machine design</td>\n",
              "    </tr>\n",
              "  </tbody>\n",
              "</table>\n",
              "</div>"
            ],
            "text/plain": [
              "                                   Hard Skills/Level  ...        Highly Interested\n",
              "0                              Matlab,Plc -scada,IOT  ...  Artificial intelligence\n",
              "1                 C(intermediate), python (advanced)  ...       Python programming\n",
              "2                      C/C++, PLC SCADA, Arduino,IOT  ...        SCADA, IOT, C/C++\n",
              "3  RPA/basic, python/advanced, R/advanced, ML/adv...  ...         Blockchain or AI\n",
              "4                            IC engines for next gen  ...           Machine design\n",
              "\n",
              "[5 rows x 3 columns]"
            ]
          },
          "metadata": {
            "tags": []
          },
          "execution_count": 17
        }
      ]
    },
    {
      "cell_type": "code",
      "metadata": {
        "id": "VHKpP_vdL1-1",
        "colab_type": "code",
        "colab": {}
      },
      "source": [
        "userInterest = userInterest.drop([116])"
      ],
      "execution_count": 0,
      "outputs": []
    },
    {
      "cell_type": "code",
      "metadata": {
        "id": "bJ2urJS8Mh4L",
        "colab_type": "code",
        "colab": {}
      },
      "source": [
        "from sklearn.preprocessing import OrdinalEncoder"
      ],
      "execution_count": 0,
      "outputs": []
    },
    {
      "cell_type": "code",
      "metadata": {
        "id": "CiGb4a7hM3uP",
        "colab_type": "code",
        "colab": {}
      },
      "source": [
        "enc = OrdinalEncoder()"
      ],
      "execution_count": 0,
      "outputs": []
    },
    {
      "cell_type": "code",
      "metadata": {
        "id": "k_emUI7wN6bi",
        "colab_type": "code",
        "colab": {
          "base_uri": "https://localhost:8080/",
          "height": 1000
        },
        "outputId": "e7d8f4fb-d4ca-48cf-bf7b-164d450e06d7"
      },
      "source": [
        "enc_data = enc.fit_transform(userInterest)\n",
        "print(enc_data,\"\\n Dimension : \",enc_data.ndim)"
      ],
      "execution_count": 60,
      "outputs": [
        {
          "output_type": "stream",
          "text": [
            "[[ 72.  53.  13.]\n",
            " [ 22.  23.  64.]\n",
            " [ 45. 102.  69.]\n",
            " [103.  63.  17.]\n",
            " [ 59.  22.  49.]\n",
            " [ 23.  96.  34.]\n",
            " [ 27.   2.  13.]\n",
            " [ 16.  12.  21.]\n",
            " [  1.  89.  13.]\n",
            " [ 95.  69.  50.]\n",
            " [109.   4.  19.]\n",
            " [ 36.  72.  31.]\n",
            " [ 71.  43.  50.]\n",
            " [ 42.  56.  62.]\n",
            " [ 57.  92.  72.]\n",
            " [ 76.  22.  47.]\n",
            " [ 62.  58.   5.]\n",
            " [ 43.  11.   9.]\n",
            " [ 90. 123.  43.]\n",
            " [ 44.  62.   4.]\n",
            " [ 84.  34.  71.]\n",
            " [  3. 126.  72.]\n",
            " [ 85.   7.   2.]\n",
            " [107. 112.  72.]\n",
            " [ 86.  82.  59.]\n",
            " [114.  73.  85.]\n",
            " [114.  71.  77.]\n",
            " [ 96.  83.  70.]\n",
            " [ 87.  58.  63.]\n",
            " [ 20. 109.  65.]\n",
            " [ 21.  94.  76.]\n",
            " [ 51.  54.  18.]\n",
            " [ 12.  67.  59.]\n",
            " [ 12.  67.  59.]\n",
            " [ 56.  97.  74.]\n",
            " [ 61.  10.  39.]\n",
            " [ 54.  77.  35.]\n",
            " [ 53.   8.  13.]\n",
            " [ 63.   0.  13.]\n",
            " [ 26.  81.  36.]\n",
            " [ 75.  39.  46.]\n",
            " [ 66. 124.  13.]\n",
            " [ 65. 108.  28.]\n",
            " [ 14.  84.  47.]\n",
            " [113.   3.  86.]\n",
            " [ 96.  79.  55.]\n",
            " [ 17.  68.   6.]\n",
            " [ 48.   5.  80.]\n",
            " [ 35.  37.  13.]\n",
            " [ 46.  61.  12.]\n",
            " [ 48.  78.  22.]\n",
            " [ 73.  57.  64.]\n",
            " [ 91.  27.  56.]\n",
            " [  9. 120.  26.]\n",
            " [ 69.  20.  44.]\n",
            " [ 48. 111.  50.]\n",
            " [ 24.  49.  32.]\n",
            " [ 31. 118.  82.]\n",
            " [111.  66.  79.]\n",
            " [ 48.  31.  78.]\n",
            " [  2. 115.  53.]\n",
            " [ 23.  80.  38.]\n",
            " [  3.  52.  33.]\n",
            " [  5.  70.   7.]\n",
            " [ 18.  15.  75.]\n",
            " [ 76.  44.  87.]\n",
            " [ 49.  42.  50.]\n",
            " [ 35.   1.  81.]\n",
            " [ 23.  95.   1.]\n",
            " [  7.  35.  11.]\n",
            " [ 98. 113.   2.]\n",
            " [  4.  30.  24.]\n",
            " [ 37.  26.  15.]\n",
            " [ 38.  24.  13.]\n",
            " [ 60.  19.  30.]\n",
            " [  0.  28.  27.]\n",
            " [ 79. 125.  14.]\n",
            " [  3.  32.  38.]\n",
            " [ 48. 121.  72.]\n",
            " [ 58.  41.   9.]\n",
            " [ 83.  93.  25.]\n",
            " [  4.  47.  64.]\n",
            " [  3.  18.  38.]\n",
            " [ 55. 116.  29.]\n",
            " [  8.  22.  38.]\n",
            " [ 97. 105.  64.]\n",
            " [ 67.  36.  10.]\n",
            " [101.  76.  50.]\n",
            " [100.  64.  67.]\n",
            " [ 48. 127.  55.]\n",
            " [116.  75.  33.]\n",
            " [ 19.  13.  72.]\n",
            " [ 10.  50.  83.]\n",
            " [ 82. 104.  57.]\n",
            " [ 47.  87.  54.]\n",
            " [104.  65.  15.]\n",
            " [ 81. 107.  50.]\n",
            " [ 76.  60.   0.]\n",
            " [ 39.  88.  73.]\n",
            " [ 77.  70.  47.]\n",
            " [ 28.  74.  61.]\n",
            " [ 93. 119.   9.]\n",
            " [ 15. 103.  50.]\n",
            " [ 13. 101.  72.]\n",
            " [ 34.  29.  52.]\n",
            " [  3.  17.  33.]\n",
            " [ 92.  25.  16.]\n",
            " [ 40. 106.  78.]\n",
            " [ 48.  14.  23.]\n",
            " [ 50.  99.  25.]\n",
            " [ 11.  46.  58.]\n",
            " [112.  40.  13.]\n",
            " [ 25. 110.  47.]\n",
            " [ 64.  33.  50.]\n",
            " [110.   9.  37.]\n",
            " [108.  55.  41.]\n",
            " [  6.   6.  33.]\n",
            " [ 33. 128.  72.]\n",
            " [ 41.  85.  51.]\n",
            " [ 88.  67.  20.]\n",
            " [106. 114.  72.]\n",
            " [ 76.  58.  60.]\n",
            " [ 74.  86.   3.]\n",
            " [ 96. 117.  68.]\n",
            " [ 89. 122.  42.]\n",
            " [ 80.  48.  66.]\n",
            " [ 32.  90.  50.]\n",
            " [105.  45.   9.]\n",
            " [ 94.  59.  45.]\n",
            " [ 99.  38.  48.]\n",
            " [115.  16.  84.]\n",
            " [102.   6.  33.]\n",
            " [ 29.  91.  47.]\n",
            " [ 68. 100.  72.]\n",
            " [ 30.  21.  70.]\n",
            " [ 70.  51.  40.]\n",
            " [ 78.  61.  78.]\n",
            " [ 52.  98.   8.]] \n",
            " Dimension :  2\n"
          ],
          "name": "stdout"
        }
      ]
    },
    {
      "cell_type": "code",
      "metadata": {
        "id": "_d3MuCNXOJWV",
        "colab_type": "code",
        "colab": {}
      },
      "source": [
        "hardSkills = enc_data[:,0:1].flatten()\n",
        "futureInterests = enc_data[:,1:2].flatten()\n",
        "highlyInterest = enc_data[:,2:3].flatten()"
      ],
      "execution_count": 0,
      "outputs": []
    },
    {
      "cell_type": "code",
      "metadata": {
        "id": "S0gg4dgaPJj6",
        "colab_type": "code",
        "colab": {}
      },
      "source": [
        "hardSkills_df = pd.Series(hardSkills).to_frame()\n",
        "futureInterests_df = pd.Series(futureInterests).to_frame()\n",
        "highlyInterest_df = pd.Series(highlyInterest).to_frame()"
      ],
      "execution_count": 0,
      "outputs": []
    },
    {
      "cell_type": "code",
      "metadata": {
        "id": "Ubqb-cfkUFJe",
        "colab_type": "code",
        "colab": {}
      },
      "source": [
        "enc_df = hardSkills_df.merge(futureInterests_df, left_index=True,right_index=True)"
      ],
      "execution_count": 0,
      "outputs": []
    },
    {
      "cell_type": "code",
      "metadata": {
        "id": "IZzgX1RoUQ8_",
        "colab_type": "code",
        "colab": {}
      },
      "source": [
        "enc_df = enc_df.merge(highlyInterest_df, left_index=True, right_index=True)"
      ],
      "execution_count": 0,
      "outputs": []
    },
    {
      "cell_type": "code",
      "metadata": {
        "id": "-yhVGDAjXX6j",
        "colab_type": "code",
        "colab": {
          "base_uri": "https://localhost:8080/",
          "height": 195
        },
        "outputId": "1d351bee-6e51-4628-c589-7a09807245a4"
      },
      "source": [
        "enc_df.head()"
      ],
      "execution_count": 86,
      "outputs": [
        {
          "output_type": "execute_result",
          "data": {
            "text/html": [
              "<div>\n",
              "<style scoped>\n",
              "    .dataframe tbody tr th:only-of-type {\n",
              "        vertical-align: middle;\n",
              "    }\n",
              "\n",
              "    .dataframe tbody tr th {\n",
              "        vertical-align: top;\n",
              "    }\n",
              "\n",
              "    .dataframe thead th {\n",
              "        text-align: right;\n",
              "    }\n",
              "</style>\n",
              "<table border=\"1\" class=\"dataframe\">\n",
              "  <thead>\n",
              "    <tr style=\"text-align: right;\">\n",
              "      <th></th>\n",
              "      <th>0_x</th>\n",
              "      <th>0_y</th>\n",
              "      <th>0</th>\n",
              "    </tr>\n",
              "  </thead>\n",
              "  <tbody>\n",
              "    <tr>\n",
              "      <th>0</th>\n",
              "      <td>72.0</td>\n",
              "      <td>53.0</td>\n",
              "      <td>13.0</td>\n",
              "    </tr>\n",
              "    <tr>\n",
              "      <th>1</th>\n",
              "      <td>22.0</td>\n",
              "      <td>23.0</td>\n",
              "      <td>64.0</td>\n",
              "    </tr>\n",
              "    <tr>\n",
              "      <th>2</th>\n",
              "      <td>45.0</td>\n",
              "      <td>102.0</td>\n",
              "      <td>69.0</td>\n",
              "    </tr>\n",
              "    <tr>\n",
              "      <th>3</th>\n",
              "      <td>103.0</td>\n",
              "      <td>63.0</td>\n",
              "      <td>17.0</td>\n",
              "    </tr>\n",
              "    <tr>\n",
              "      <th>4</th>\n",
              "      <td>59.0</td>\n",
              "      <td>22.0</td>\n",
              "      <td>49.0</td>\n",
              "    </tr>\n",
              "  </tbody>\n",
              "</table>\n",
              "</div>"
            ],
            "text/plain": [
              "     0_x    0_y     0\n",
              "0   72.0   53.0  13.0\n",
              "1   22.0   23.0  64.0\n",
              "2   45.0  102.0  69.0\n",
              "3  103.0   63.0  17.0\n",
              "4   59.0   22.0  49.0"
            ]
          },
          "metadata": {
            "tags": []
          },
          "execution_count": 86
        }
      ]
    },
    {
      "cell_type": "code",
      "metadata": {
        "id": "MU6IZiadXZ07",
        "colab_type": "code",
        "colab": {}
      },
      "source": [
        "enc_df.rename(columns = {\"0_x\":\"Hard Skills\",\"0_y\":\"Future Interests\",\"0\":\"Highly Interest\"}, inplace = True)"
      ],
      "execution_count": 0,
      "outputs": []
    },
    {
      "cell_type": "code",
      "metadata": {
        "id": "Sxc5CjsqYJv7",
        "colab_type": "code",
        "colab": {
          "base_uri": "https://localhost:8080/",
          "height": 195
        },
        "outputId": "8015d0be-dd7a-447f-c0ad-37e7b75cf167"
      },
      "source": [
        "enc_df.head()"
      ],
      "execution_count": 90,
      "outputs": [
        {
          "output_type": "execute_result",
          "data": {
            "text/html": [
              "<div>\n",
              "<style scoped>\n",
              "    .dataframe tbody tr th:only-of-type {\n",
              "        vertical-align: middle;\n",
              "    }\n",
              "\n",
              "    .dataframe tbody tr th {\n",
              "        vertical-align: top;\n",
              "    }\n",
              "\n",
              "    .dataframe thead th {\n",
              "        text-align: right;\n",
              "    }\n",
              "</style>\n",
              "<table border=\"1\" class=\"dataframe\">\n",
              "  <thead>\n",
              "    <tr style=\"text-align: right;\">\n",
              "      <th></th>\n",
              "      <th>Hard Skills</th>\n",
              "      <th>Future Interests</th>\n",
              "      <th>0</th>\n",
              "    </tr>\n",
              "  </thead>\n",
              "  <tbody>\n",
              "    <tr>\n",
              "      <th>0</th>\n",
              "      <td>72.0</td>\n",
              "      <td>53.0</td>\n",
              "      <td>13.0</td>\n",
              "    </tr>\n",
              "    <tr>\n",
              "      <th>1</th>\n",
              "      <td>22.0</td>\n",
              "      <td>23.0</td>\n",
              "      <td>64.0</td>\n",
              "    </tr>\n",
              "    <tr>\n",
              "      <th>2</th>\n",
              "      <td>45.0</td>\n",
              "      <td>102.0</td>\n",
              "      <td>69.0</td>\n",
              "    </tr>\n",
              "    <tr>\n",
              "      <th>3</th>\n",
              "      <td>103.0</td>\n",
              "      <td>63.0</td>\n",
              "      <td>17.0</td>\n",
              "    </tr>\n",
              "    <tr>\n",
              "      <th>4</th>\n",
              "      <td>59.0</td>\n",
              "      <td>22.0</td>\n",
              "      <td>49.0</td>\n",
              "    </tr>\n",
              "  </tbody>\n",
              "</table>\n",
              "</div>"
            ],
            "text/plain": [
              "   Hard Skills  Future Interests     0\n",
              "0         72.0              53.0  13.0\n",
              "1         22.0              23.0  64.0\n",
              "2         45.0             102.0  69.0\n",
              "3        103.0              63.0  17.0\n",
              "4         59.0              22.0  49.0"
            ]
          },
          "metadata": {
            "tags": []
          },
          "execution_count": 90
        }
      ]
    },
    {
      "cell_type": "code",
      "metadata": {
        "id": "wp08istzYM3K",
        "colab_type": "code",
        "colab": {
          "base_uri": "https://localhost:8080/",
          "height": 545
        },
        "outputId": "d5306515-1461-4b11-a3d3-d91835b8a4e4"
      },
      "source": [
        "sns.pairplot(enc_df)\n",
        "plt.show()"
      ],
      "execution_count": 93,
      "outputs": [
        {
          "output_type": "display_data",
          "data": {
            "image/png": "[encoded data removed]",
            "text/plain": [
              "<Figure size 540x540 with 12 Axes>"
            ]
          },
          "metadata": {
            "tags": []
          }
        }
      ]
    },
    {
      "cell_type": "code",
      "metadata": {
        "id": "mb5WQhWQYfmW",
        "colab_type": "code",
        "colab": {}
      },
      "source": [
        "from sklearn.cluster import KMeans"
      ],
      "execution_count": 0,
      "outputs": []
    },
    {
      "cell_type": "code",
      "metadata": {
        "id": "TL9HsF9OZrg7",
        "colab_type": "code",
        "colab": {
          "base_uri": "https://localhost:8080/",
          "height": 185
        },
        "outputId": "711ffa74-3605-437f-90e8-e8ca653e8e43"
      },
      "source": [
        "#Elbow Method to find optimum number of k\n",
        "lis  = []\n",
        "for i in range(1,11):\n",
        "    kmeans = KMeans(n_clusters=i,init=\"k-means++\",random_state=5)\n",
        "    kmeans.fit(enc_df)\n",
        "    lis.append(kmeans.inertia_)\n",
        "lis"
      ],
      "execution_count": 96,
      "outputs": [
        {
          "output_type": "execute_result",
          "data": {
            "text/plain": [
              "[429367.2608695652,\n",
              " 289967.0103006096,\n",
              " 205559.57404758944,\n",
              " 169154.01123498898,\n",
              " 144856.7355283292,\n",
              " 128405.04330607133,\n",
              " 110761.68674648578,\n",
              " 98271.659561634,\n",
              " 90009.871192185,\n",
              " 81068.35483405483]"
            ]
          },
          "metadata": {
            "tags": []
          },
          "execution_count": 96
        }
      ]
    },
    {
      "cell_type": "code",
      "metadata": {
        "id": "R5ay7vZUZyhu",
        "colab_type": "code",
        "colab": {
          "base_uri": "https://localhost:8080/",
          "height": 279
        },
        "outputId": "ae44dc66-6ad2-43e3-f2e8-b994109aba16"
      },
      "source": [
        "#Select the value on x-axis for k\n",
        "plt.xlabel(\"Optimum K value\")\n",
        "plt.plot(range(1,11),lis)\n",
        "plt.show()"
      ],
      "execution_count": 97,
      "outputs": [
        {
          "output_type": "display_data",
          "data": {
            "image/png": "[encoded data removed]",
            "text/plain": [
              "<Figure size 432x288 with 1 Axes>"
            ]
          },
          "metadata": {
            "tags": []
          }
        }
      ]
    },
    {
      "cell_type": "code",
      "metadata": {
        "id": "UhnhdIQTZ9Wj",
        "colab_type": "code",
        "colab": {}
      },
      "source": [
        "kmeans = KMeans(n_clusters=3,init=\"k-means++\",random_state=5)"
      ],
      "execution_count": 0,
      "outputs": []
    },
    {
      "cell_type": "code",
      "metadata": {
        "id": "DVL3oz5caNCD",
        "colab_type": "code",
        "colab": {}
      },
      "source": [
        "model = kmeans.fit(enc_df)"
      ],
      "execution_count": 0,
      "outputs": []
    },
    {
      "cell_type": "code",
      "metadata": {
        "id": "X3fu0If_aWkb",
        "colab_type": "code",
        "colab": {}
      },
      "source": [
        "test_data = [22, 23, 64]\n",
        "test_data = np.array(test_data).reshape(1,-1)"
      ],
      "execution_count": 0,
      "outputs": []
    },
    {
      "cell_type": "code",
      "metadata": {
        "id": "yZyXLUSgatrQ",
        "colab_type": "code",
        "colab": {
          "base_uri": "https://localhost:8080/",
          "height": 34
        },
        "outputId": "b98bc7bf-0eaa-4c52-8c96-10417a3f25e8"
      },
      "source": [
        "model.predict(test_data)"
      ],
      "execution_count": 107,
      "outputs": [
        {
          "output_type": "execute_result",
          "data": {
            "text/plain": [
              "array([2], dtype=int32)"
            ]
          },
          "metadata": {
            "tags": []
          },
          "execution_count": 107
        }
      ]
    },
    {
      "cell_type": "code",
      "metadata": {
        "id": "PFzpbVHtb28X",
        "colab_type": "code",
        "colab": {}
      },
      "source": [
        ""
      ],
      "execution_count": 0,
      "outputs": []
    }
  ]
}