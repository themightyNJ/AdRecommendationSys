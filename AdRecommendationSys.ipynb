{
  "nbformat": 4,
  "nbformat_minor": 0,
  "metadata": {
    "colab": {
      "name": "AdRecommendationSys.ipynb",
      "provenance": [],
      "collapsed_sections": [],
      "authorship_tag": "ABX9TyP7MHbp3r/8dU1Bw4psUvZB",
      "include_colab_link": true
    },
    "kernelspec": {
      "name": "python3",
      "display_name": "Python 3"
    }
  },
  "cells": [
    {
      "cell_type": "markdown",
      "metadata": {
        "id": "view-in-github",
        "colab_type": "text"
      },
      "source": [
        "<a href=\"https://colab.research.google.com/github/themightyNJ/AdRecommendationSys/blob/master/AdRecommendationSys.ipynb\" target=\"_parent\"><img src=\"https://colab.research.google.com/assets/colab-badge.svg\" alt=\"Open In Colab\"/></a>"
      ]
    },
    {
      "cell_type": "code",
      "metadata": {
        "id": "l80uVI0tmhwI",
        "colab_type": "code",
        "colab": {}
      },
      "source": [
        "'''Exploratory Data Analysis Libraries'''\n",
        "import pandas as pd\n",
        "import numpy as np\n",
        "import seaborn as sns\n",
        "import matplotlib.pyplot as plt\n",
        "%matplotlib inline "
      ],
      "execution_count": 0,
      "outputs": []
    },
    {
      "cell_type": "code",
      "metadata": {
        "id": "ZshtH6JO8DAM",
        "colab_type": "code",
        "outputId": "1dfffc57-11c7-4e87-87ab-caef64b915a6",
        "colab": {
          "base_uri": "https://localhost:8080/",
          "height": 313
        }
      },
      "source": [
        "'''Internship Survey Dataset'''\n",
        "dataPath = \"https://raw.githubusercontent.com/themightyNJ/AdRecommendationSys/master/survey.json\"\n",
        "surveyData = pd.read_json(dataPath)\n",
        "surveyData.head()"
      ],
      "execution_count": 2,
      "outputs": [
        {
          "output_type": "execute_result",
          "data": {
            "text/html": [
              "<div>\n",
              "<style scoped>\n",
              "    .dataframe tbody tr th:only-of-type {\n",
              "        vertical-align: middle;\n",
              "    }\n",
              "\n",
              "    .dataframe tbody tr th {\n",
              "        vertical-align: top;\n",
              "    }\n",
              "\n",
              "    .dataframe thead th {\n",
              "        text-align: right;\n",
              "    }\n",
              "</style>\n",
              "<table border=\"1\" class=\"dataframe\">\n",
              "  <thead>\n",
              "    <tr style=\"text-align: right;\">\n",
              "      <th></th>\n",
              "      <th>Timestamp</th>\n",
              "      <th>Email address</th>\n",
              "      <th>Name</th>\n",
              "      <th>Branch</th>\n",
              "      <th>Year</th>\n",
              "      <th>Hard Skills/Level</th>\n",
              "      <th>Future Interests</th>\n",
              "      <th>If you get an opportunity for internship then which field from the above list will be your priority?</th>\n",
              "    </tr>\n",
              "  </thead>\n",
              "  <tbody>\n",
              "    <tr>\n",
              "      <th>0</th>\n",
              "      <td>2020-07-01 14:05:00</td>\n",
              "      <td>abhijitjha.aj@gmail.com</td>\n",
              "      <td>Abhijit Shekhar Jha</td>\n",
              "      <td>EEE</td>\n",
              "      <td>3rd</td>\n",
              "      <td>Matlab,Plc -scada,IOT</td>\n",
              "      <td>python_programming, digital_marketing, artific...</td>\n",
              "      <td>artificial_intelligence</td>\n",
              "    </tr>\n",
              "    <tr>\n",
              "      <th>1</th>\n",
              "      <td>2020-07-01 14:16:00</td>\n",
              "      <td>vg222000@gmail.com</td>\n",
              "      <td>Vaibhav Gupta</td>\n",
              "      <td>ECE</td>\n",
              "      <td>3rd</td>\n",
              "      <td>C(intermediate), python (advanced)</td>\n",
              "      <td>machine_learning, android</td>\n",
              "      <td>python_programming</td>\n",
              "    </tr>\n",
              "    <tr>\n",
              "      <th>2</th>\n",
              "      <td>2020-07-01 14:19:00</td>\n",
              "      <td>vishwajit1704@gmail.com</td>\n",
              "      <td>Vishwajit Verma</td>\n",
              "      <td>EEE</td>\n",
              "      <td>3rd</td>\n",
              "      <td>C/C++, PLC SCADA, Arduino,IOT</td>\n",
              "      <td>python_programming, machine_learning, web_deve...</td>\n",
              "      <td>linux , c_programming, malware_analysis</td>\n",
              "    </tr>\n",
              "    <tr>\n",
              "      <th>3</th>\n",
              "      <td>2020-07-01 14:57:00</td>\n",
              "      <td>sapra.ritvik@gmail.com</td>\n",
              "      <td>Ritvik Sapra</td>\n",
              "      <td>ECE</td>\n",
              "      <td>3rd</td>\n",
              "      <td>RPA/basic, python/advanced, R/advanced, ML/adv...</td>\n",
              "      <td>python_programming, machine_learning, artifici...</td>\n",
              "      <td>blockchain,artificial_intelligence</td>\n",
              "    </tr>\n",
              "    <tr>\n",
              "      <th>4</th>\n",
              "      <td>2020-07-01 15:20:00</td>\n",
              "      <td>adityakumar9246@gmail.com</td>\n",
              "      <td>Aditya kumar</td>\n",
              "      <td>MAE</td>\n",
              "      <td>2nd</td>\n",
              "      <td>IC engines for next gen</td>\n",
              "      <td>machine_learning</td>\n",
              "      <td>machine_learning</td>\n",
              "    </tr>\n",
              "  </tbody>\n",
              "</table>\n",
              "</div>"
            ],
            "text/plain": [
              "            Timestamp  ... If you get an opportunity for internship then which field from the above list will be your priority?\n",
              "0 2020-07-01 14:05:00  ...                            artificial_intelligence                                                  \n",
              "1 2020-07-01 14:16:00  ...                                 python_programming                                                  \n",
              "2 2020-07-01 14:19:00  ...            linux , c_programming, malware_analysis                                                  \n",
              "3 2020-07-01 14:57:00  ...                 blockchain,artificial_intelligence                                                  \n",
              "4 2020-07-01 15:20:00  ...                                   machine_learning                                                  \n",
              "\n",
              "[5 rows x 8 columns]"
            ]
          },
          "metadata": {
            "tags": []
          },
          "execution_count": 2
        }
      ]
    },
    {
      "cell_type": "code",
      "metadata": {
        "id": "bQNDDYQN8hYu",
        "colab_type": "code",
        "colab": {}
      },
      "source": [
        "'''Filtering Dataset'''\n",
        "uselessColumns = [\"Timestamp\",\"Branch\",\"Year\",\"Email address\"]\n",
        "surveyData = surveyData.drop(uselessColumns, axis = 1)"
      ],
      "execution_count": 0,
      "outputs": []
    },
    {
      "cell_type": "code",
      "metadata": {
        "id": "3uZFotRD9RlG",
        "colab_type": "code",
        "colab": {}
      },
      "source": [
        "surveyData.rename(columns = {'If you get an opportunity for internship then which field from the above list will be your priority?':'Highly Interested'}, inplace = True)"
      ],
      "execution_count": 0,
      "outputs": []
    },
    {
      "cell_type": "code",
      "metadata": {
        "id": "gHRXJJEpB44g",
        "colab_type": "code",
        "outputId": "e138e653-75a2-4123-b170-2c76ee7d5c75",
        "colab": {
          "base_uri": "https://localhost:8080/",
          "height": 168
        }
      },
      "source": [
        "userInterest = surveyData[[\"Hard Skills/Level\",\"Future Interests\",\"Highly Interested\"]]\n",
        "print(userInterest.info())"
      ],
      "execution_count": 5,
      "outputs": [
        {
          "output_type": "stream",
          "text": [
            "<class 'pandas.core.frame.DataFrame'>\n",
            "RangeIndex: 139 entries, 0 to 138\n",
            "Data columns (total 3 columns):\n",
            "Hard Skills/Level    139 non-null object\n",
            "Future Interests     139 non-null object\n",
            "Highly Interested    139 non-null object\n",
            "dtypes: object(3)\n",
            "memory usage: 3.4+ KB\n",
            "None\n"
          ],
          "name": "stdout"
        }
      ]
    },
    {
      "cell_type": "code",
      "metadata": {
        "id": "8ZOHfxNxDmdI",
        "colab_type": "code",
        "outputId": "4059438c-5dd4-49c1-abde-c29e9fa91fa8",
        "colab": {
          "base_uri": "https://localhost:8080/",
          "height": 195
        }
      },
      "source": [
        "userInterest.head()"
      ],
      "execution_count": 6,
      "outputs": [
        {
          "output_type": "execute_result",
          "data": {
            "text/html": [
              "<div>\n",
              "<style scoped>\n",
              "    .dataframe tbody tr th:only-of-type {\n",
              "        vertical-align: middle;\n",
              "    }\n",
              "\n",
              "    .dataframe tbody tr th {\n",
              "        vertical-align: top;\n",
              "    }\n",
              "\n",
              "    .dataframe thead th {\n",
              "        text-align: right;\n",
              "    }\n",
              "</style>\n",
              "<table border=\"1\" class=\"dataframe\">\n",
              "  <thead>\n",
              "    <tr style=\"text-align: right;\">\n",
              "      <th></th>\n",
              "      <th>Hard Skills/Level</th>\n",
              "      <th>Future Interests</th>\n",
              "      <th>Highly Interested</th>\n",
              "    </tr>\n",
              "  </thead>\n",
              "  <tbody>\n",
              "    <tr>\n",
              "      <th>0</th>\n",
              "      <td>Matlab,Plc -scada,IOT</td>\n",
              "      <td>python_programming, digital_marketing, artific...</td>\n",
              "      <td>artificial_intelligence</td>\n",
              "    </tr>\n",
              "    <tr>\n",
              "      <th>1</th>\n",
              "      <td>C(intermediate), python (advanced)</td>\n",
              "      <td>machine_learning, android</td>\n",
              "      <td>python_programming</td>\n",
              "    </tr>\n",
              "    <tr>\n",
              "      <th>2</th>\n",
              "      <td>C/C++, PLC SCADA, Arduino,IOT</td>\n",
              "      <td>python_programming, machine_learning, web_deve...</td>\n",
              "      <td>linux , c_programming, malware_analysis</td>\n",
              "    </tr>\n",
              "    <tr>\n",
              "      <th>3</th>\n",
              "      <td>RPA/basic, python/advanced, R/advanced, ML/adv...</td>\n",
              "      <td>python_programming, machine_learning, artifici...</td>\n",
              "      <td>blockchain,artificial_intelligence</td>\n",
              "    </tr>\n",
              "    <tr>\n",
              "      <th>4</th>\n",
              "      <td>IC engines for next gen</td>\n",
              "      <td>machine_learning</td>\n",
              "      <td>machine_learning</td>\n",
              "    </tr>\n",
              "  </tbody>\n",
              "</table>\n",
              "</div>"
            ],
            "text/plain": [
              "                                   Hard Skills/Level  ...                        Highly Interested\n",
              "0                              Matlab,Plc -scada,IOT  ...                  artificial_intelligence\n",
              "1                 C(intermediate), python (advanced)  ...                       python_programming\n",
              "2                      C/C++, PLC SCADA, Arduino,IOT  ...  linux , c_programming, malware_analysis\n",
              "3  RPA/basic, python/advanced, R/advanced, ML/adv...  ...       blockchain,artificial_intelligence\n",
              "4                            IC engines for next gen  ...                         machine_learning\n",
              "\n",
              "[5 rows x 3 columns]"
            ]
          },
          "metadata": {
            "tags": []
          },
          "execution_count": 6
        }
      ]
    },
    {
      "cell_type": "code",
      "metadata": {
        "id": "VHKpP_vdL1-1",
        "colab_type": "code",
        "colab": {}
      },
      "source": [
        "userInterest = userInterest.drop([116])"
      ],
      "execution_count": 0,
      "outputs": []
    },
    {
      "cell_type": "code",
      "metadata": {
        "id": "bJ2urJS8Mh4L",
        "colab_type": "code",
        "colab": {}
      },
      "source": [
        "from sklearn.preprocessing import OrdinalEncoder"
      ],
      "execution_count": 0,
      "outputs": []
    },
    {
      "cell_type": "code",
      "metadata": {
        "id": "CiGb4a7hM3uP",
        "colab_type": "code",
        "colab": {}
      },
      "source": [
        "enc = OrdinalEncoder()"
      ],
      "execution_count": 0,
      "outputs": []
    },
    {
      "cell_type": "code",
      "metadata": {
        "id": "k_emUI7wN6bi",
        "colab_type": "code",
        "outputId": "cdaccf8c-3adc-4182-dd21-8bdeeb2f880f",
        "colab": {
          "base_uri": "https://localhost:8080/",
          "height": 1000
        }
      },
      "source": [
        "enc_data = enc.fit_transform(userInterest)\n",
        "print(enc_data,\"\\n Dimension : \",enc_data.ndim)"
      ],
      "execution_count": 10,
      "outputs": [
        {
          "output_type": "stream",
          "text": [
            "[[ 72.  53.   6.]\n",
            " [ 22.  23.  48.]\n",
            " [ 45. 102.  38.]\n",
            " [103.  63.  10.]\n",
            " [ 59.  22.  39.]\n",
            " [ 23.  96.  29.]\n",
            " [ 27.   2.   6.]\n",
            " [ 16.  12.  12.]\n",
            " [  1.  89.   6.]\n",
            " [ 95.  69.  39.]\n",
            " [109.   4.  11.]\n",
            " [ 36.  72.  20.]\n",
            " [ 71.  43.  39.]\n",
            " [ 42.  56.  50.]\n",
            " [ 57.  92.  56.]\n",
            " [ 76.  22.  39.]\n",
            " [ 62.  58.   6.]\n",
            " [ 43.  11.   3.]\n",
            " [ 90. 123.  37.]\n",
            " [ 44.  62.   7.]\n",
            " [ 84.  34.  56.]\n",
            " [  3. 126.  56.]\n",
            " [ 85.   7.   6.]\n",
            " [107. 112.  57.]\n",
            " [ 86.  82.  48.]\n",
            " [114.  73.  31.]\n",
            " [114.  71.   2.]\n",
            " [ 96.  83.  54.]\n",
            " [ 87.  58.  48.]\n",
            " [ 20. 109.  51.]\n",
            " [ 21.  94.  59.]\n",
            " [ 51.  54.  11.]\n",
            " [ 12.  67.  48.]\n",
            " [ 12.  67.  48.]\n",
            " [ 56.  97.  59.]\n",
            " [ 61.  10.  32.]\n",
            " [ 54.  77.  30.]\n",
            " [ 53.   8.   6.]\n",
            " [ 63.   0.   6.]\n",
            " [ 26.  81.  23.]\n",
            " [ 75.  39.  39.]\n",
            " [ 66. 124.   6.]\n",
            " [ 65. 108.  17.]\n",
            " [ 14.  84.  39.]\n",
            " [113.   3.  46.]\n",
            " [ 96.  79.  47.]\n",
            " [ 17.  68.   0.]\n",
            " [ 48.   5.  11.]\n",
            " [ 35.  37.   6.]\n",
            " [ 46.  61.   6.]\n",
            " [ 48.  78.  11.]\n",
            " [ 73.  57.  48.]\n",
            " [ 91.  27.  39.]\n",
            " [  9. 120.  16.]\n",
            " [ 69.  20.  34.]\n",
            " [ 48. 111.  39.]\n",
            " [ 24.  49.  25.]\n",
            " [ 31. 118.  19.]\n",
            " [111.  66.   6.]\n",
            " [ 48.  31.   6.]\n",
            " [  2. 115.  45.]\n",
            " [ 23.  80.  31.]\n",
            " [  3.  52.  21.]\n",
            " [  5.  70.   0.]\n",
            " [ 18.  15.  56.]\n",
            " [ 76.  44.  48.]\n",
            " [ 49.  42.  39.]\n",
            " [ 35.   1.  19.]\n",
            " [ 23.  95.   6.]\n",
            " [  7.  35.   3.]\n",
            " [ 98. 113.   6.]\n",
            " [  4.  30.  14.]\n",
            " [ 37.  26.   6.]\n",
            " [ 38.  24.   6.]\n",
            " [ 60.  19.  19.]\n",
            " [  0.  28.  15.]\n",
            " [ 79. 125.   6.]\n",
            " [  3.  32.  31.]\n",
            " [ 48. 121.  56.]\n",
            " [ 58.  41.   5.]\n",
            " [ 83.  93.  14.]\n",
            " [  4.  47.  48.]\n",
            " [  3.  18.  31.]\n",
            " [ 55. 116.  18.]\n",
            " [  8.  22.  31.]\n",
            " [ 97. 105.  48.]\n",
            " [ 67.  36.   4.]\n",
            " [101.  76.  39.]\n",
            " [100.  64.  53.]\n",
            " [ 48. 127.  47.]\n",
            " [116.  75.  22.]\n",
            " [ 19.  13.  56.]\n",
            " [ 10.  50.  21.]\n",
            " [ 82. 104.  35.]\n",
            " [ 47.  87.  44.]\n",
            " [104.  65.   6.]\n",
            " [ 81. 107.  39.]\n",
            " [ 76.  60.  41.]\n",
            " [ 39.  88.  58.]\n",
            " [ 77.  70.  39.]\n",
            " [ 28.  74.  48.]\n",
            " [ 93. 119.   3.]\n",
            " [ 15. 103.  39.]\n",
            " [ 13. 101.  56.]\n",
            " [ 34.  29.  42.]\n",
            " [  3.  17.  27.]\n",
            " [ 92.  25.   9.]\n",
            " [ 40. 106.   6.]\n",
            " [ 48.  14.  11.]\n",
            " [ 50.  99.  14.]\n",
            " [ 11.  46.  24.]\n",
            " [112.  40.   6.]\n",
            " [ 25. 110.  39.]\n",
            " [ 64.  33.  39.]\n",
            " [110.   9.  31.]\n",
            " [108.  55.  56.]\n",
            " [  6.   6.  28.]\n",
            " [ 33. 128.  56.]\n",
            " [ 41.  85.  40.]\n",
            " [ 88.  67.  13.]\n",
            " [106. 114.  56.]\n",
            " [ 76.  58.  49.]\n",
            " [ 74.  86.   8.]\n",
            " [ 96. 117.  48.]\n",
            " [ 89. 122.  36.]\n",
            " [ 80.  48.  52.]\n",
            " [ 32.  90.  39.]\n",
            " [105.  45.   3.]\n",
            " [ 94.  59.  41.]\n",
            " [ 99.  38.  43.]\n",
            " [115.  16.  31.]\n",
            " [102.   6.  26.]\n",
            " [ 29.  91.  39.]\n",
            " [ 68. 100.  56.]\n",
            " [ 30.  21.  55.]\n",
            " [ 70.  51.  33.]\n",
            " [ 78.  61.   6.]\n",
            " [ 52.  98.   1.]] \n",
            " Dimension :  2\n"
          ],
          "name": "stdout"
        }
      ]
    },
    {
      "cell_type": "code",
      "metadata": {
        "id": "_d3MuCNXOJWV",
        "colab_type": "code",
        "colab": {}
      },
      "source": [
        "hardSkills = enc_data[:,0:1].flatten()\n",
        "futureInterests = enc_data[:,1:2].flatten()\n",
        "highlyInterest = enc_data[:,2:3].flatten()"
      ],
      "execution_count": 0,
      "outputs": []
    },
    {
      "cell_type": "code",
      "metadata": {
        "id": "S0gg4dgaPJj6",
        "colab_type": "code",
        "colab": {}
      },
      "source": [
        "hardSkills_df = pd.Series(hardSkills).to_frame()\n",
        "futureInterests_df = pd.Series(futureInterests).to_frame()\n",
        "highlyInterest_df = pd.Series(highlyInterest).to_frame()"
      ],
      "execution_count": 0,
      "outputs": []
    },
    {
      "cell_type": "code",
      "metadata": {
        "id": "Ubqb-cfkUFJe",
        "colab_type": "code",
        "colab": {}
      },
      "source": [
        "enc_df = hardSkills_df.merge(futureInterests_df, left_index=True,right_index=True)"
      ],
      "execution_count": 0,
      "outputs": []
    },
    {
      "cell_type": "code",
      "metadata": {
        "id": "IZzgX1RoUQ8_",
        "colab_type": "code",
        "colab": {}
      },
      "source": [
        "enc_df = enc_df.merge(highlyInterest_df, left_index=True, right_index=True)"
      ],
      "execution_count": 0,
      "outputs": []
    },
    {
      "cell_type": "code",
      "metadata": {
        "id": "-yhVGDAjXX6j",
        "colab_type": "code",
        "outputId": "97e89323-0344-4216-9910-797c980b8879",
        "colab": {
          "base_uri": "https://localhost:8080/",
          "height": 195
        }
      },
      "source": [
        "enc_df.head()"
      ],
      "execution_count": 15,
      "outputs": [
        {
          "output_type": "execute_result",
          "data": {
            "text/html": [
              "<div>\n",
              "<style scoped>\n",
              "    .dataframe tbody tr th:only-of-type {\n",
              "        vertical-align: middle;\n",
              "    }\n",
              "\n",
              "    .dataframe tbody tr th {\n",
              "        vertical-align: top;\n",
              "    }\n",
              "\n",
              "    .dataframe thead th {\n",
              "        text-align: right;\n",
              "    }\n",
              "</style>\n",
              "<table border=\"1\" class=\"dataframe\">\n",
              "  <thead>\n",
              "    <tr style=\"text-align: right;\">\n",
              "      <th></th>\n",
              "      <th>0_x</th>\n",
              "      <th>0_y</th>\n",
              "      <th>0</th>\n",
              "    </tr>\n",
              "  </thead>\n",
              "  <tbody>\n",
              "    <tr>\n",
              "      <th>0</th>\n",
              "      <td>72.0</td>\n",
              "      <td>53.0</td>\n",
              "      <td>6.0</td>\n",
              "    </tr>\n",
              "    <tr>\n",
              "      <th>1</th>\n",
              "      <td>22.0</td>\n",
              "      <td>23.0</td>\n",
              "      <td>48.0</td>\n",
              "    </tr>\n",
              "    <tr>\n",
              "      <th>2</th>\n",
              "      <td>45.0</td>\n",
              "      <td>102.0</td>\n",
              "      <td>38.0</td>\n",
              "    </tr>\n",
              "    <tr>\n",
              "      <th>3</th>\n",
              "      <td>103.0</td>\n",
              "      <td>63.0</td>\n",
              "      <td>10.0</td>\n",
              "    </tr>\n",
              "    <tr>\n",
              "      <th>4</th>\n",
              "      <td>59.0</td>\n",
              "      <td>22.0</td>\n",
              "      <td>39.0</td>\n",
              "    </tr>\n",
              "  </tbody>\n",
              "</table>\n",
              "</div>"
            ],
            "text/plain": [
              "     0_x    0_y     0\n",
              "0   72.0   53.0   6.0\n",
              "1   22.0   23.0  48.0\n",
              "2   45.0  102.0  38.0\n",
              "3  103.0   63.0  10.0\n",
              "4   59.0   22.0  39.0"
            ]
          },
          "metadata": {
            "tags": []
          },
          "execution_count": 15
        }
      ]
    },
    {
      "cell_type": "code",
      "metadata": {
        "id": "MU6IZiadXZ07",
        "colab_type": "code",
        "colab": {}
      },
      "source": [
        "enc_df.rename(columns = {\"0_x\":\"Hard Skills\",\"0_y\":\"Future Interests\",\"0\":\"Highly Interest\"}, inplace = True)"
      ],
      "execution_count": 0,
      "outputs": []
    },
    {
      "cell_type": "code",
      "metadata": {
        "id": "Sxc5CjsqYJv7",
        "colab_type": "code",
        "outputId": "cfa84bea-7bd4-4ca3-c838-3286c53425f8",
        "colab": {
          "base_uri": "https://localhost:8080/",
          "height": 195
        }
      },
      "source": [
        "enc_df.head()"
      ],
      "execution_count": 17,
      "outputs": [
        {
          "output_type": "execute_result",
          "data": {
            "text/html": [
              "<div>\n",
              "<style scoped>\n",
              "    .dataframe tbody tr th:only-of-type {\n",
              "        vertical-align: middle;\n",
              "    }\n",
              "\n",
              "    .dataframe tbody tr th {\n",
              "        vertical-align: top;\n",
              "    }\n",
              "\n",
              "    .dataframe thead th {\n",
              "        text-align: right;\n",
              "    }\n",
              "</style>\n",
              "<table border=\"1\" class=\"dataframe\">\n",
              "  <thead>\n",
              "    <tr style=\"text-align: right;\">\n",
              "      <th></th>\n",
              "      <th>Hard Skills</th>\n",
              "      <th>Future Interests</th>\n",
              "      <th>0</th>\n",
              "    </tr>\n",
              "  </thead>\n",
              "  <tbody>\n",
              "    <tr>\n",
              "      <th>0</th>\n",
              "      <td>72.0</td>\n",
              "      <td>53.0</td>\n",
              "      <td>6.0</td>\n",
              "    </tr>\n",
              "    <tr>\n",
              "      <th>1</th>\n",
              "      <td>22.0</td>\n",
              "      <td>23.0</td>\n",
              "      <td>48.0</td>\n",
              "    </tr>\n",
              "    <tr>\n",
              "      <th>2</th>\n",
              "      <td>45.0</td>\n",
              "      <td>102.0</td>\n",
              "      <td>38.0</td>\n",
              "    </tr>\n",
              "    <tr>\n",
              "      <th>3</th>\n",
              "      <td>103.0</td>\n",
              "      <td>63.0</td>\n",
              "      <td>10.0</td>\n",
              "    </tr>\n",
              "    <tr>\n",
              "      <th>4</th>\n",
              "      <td>59.0</td>\n",
              "      <td>22.0</td>\n",
              "      <td>39.0</td>\n",
              "    </tr>\n",
              "  </tbody>\n",
              "</table>\n",
              "</div>"
            ],
            "text/plain": [
              "   Hard Skills  Future Interests     0\n",
              "0         72.0              53.0   6.0\n",
              "1         22.0              23.0  48.0\n",
              "2         45.0             102.0  38.0\n",
              "3        103.0              63.0  10.0\n",
              "4         59.0              22.0  39.0"
            ]
          },
          "metadata": {
            "tags": []
          },
          "execution_count": 17
        }
      ]
    },
    {
      "cell_type": "code",
      "metadata": {
        "id": "wp08istzYM3K",
        "colab_type": "code",
        "outputId": "be60cd4b-dd1a-45e1-92e2-e13a6d3e49e8",
        "colab": {
          "base_uri": "https://localhost:8080/",
          "height": 545
        }
      },
      "source": [
        "sns.pairplot(enc_df)\n",
        "plt.show()"
      ],
      "execution_count": 18,
      "outputs": [
        {
          "output_type": "display_data",
          "data": {
            "image/png": "[encoded data removed]",
            "text/plain": [
              "<Figure size 540x540 with 12 Axes>"
            ]
          },
          "metadata": {
            "tags": []
          }
        }
      ]
    },
    {
      "cell_type": "code",
      "metadata": {
        "id": "mb5WQhWQYfmW",
        "colab_type": "code",
        "colab": {}
      },
      "source": [
        "from sklearn.cluster import KMeans"
      ],
      "execution_count": 0,
      "outputs": []
    },
    {
      "cell_type": "code",
      "metadata": {
        "id": "TL9HsF9OZrg7",
        "colab_type": "code",
        "outputId": "a667e62e-24cc-40c1-9e8b-e439e75c786f",
        "colab": {
          "base_uri": "https://localhost:8080/",
          "height": 185
        }
      },
      "source": [
        "#Elbow Method to find optimum number of k\n",
        "lis  = []\n",
        "for i in range(1,11):\n",
        "    kmeans = KMeans(n_clusters=i,init=\"k-means++\",random_state=5)\n",
        "    kmeans.fit(enc_df)\n",
        "    lis.append(kmeans.inertia_)\n",
        "lis"
      ],
      "execution_count": 20,
      "outputs": [
        {
          "output_type": "execute_result",
          "data": {
            "text/plain": [
              "[393679.2391304348,\n",
              " 255088.03282828283,\n",
              " 169205.04995232762,\n",
              " 132684.63125268125,\n",
              " 115152.83507614757,\n",
              " 100920.58143547275,\n",
              " 90347.48788638262,\n",
              " 78161.41021487542,\n",
              " 71812.93830708484,\n",
              " 64462.810214793804]"
            ]
          },
          "metadata": {
            "tags": []
          },
          "execution_count": 20
        }
      ]
    },
    {
      "cell_type": "code",
      "metadata": {
        "id": "R5ay7vZUZyhu",
        "colab_type": "code",
        "outputId": "8327bafe-7ac3-4476-eb02-ca45566903ba",
        "colab": {
          "base_uri": "https://localhost:8080/",
          "height": 279
        }
      },
      "source": [
        "#Select the value on x-axis for k\n",
        "plt.xlabel(\"Optimum K value\")\n",
        "plt.plot(range(1,11),lis)\n",
        "plt.show()"
      ],
      "execution_count": 21,
      "outputs": [
        {
          "output_type": "display_data",
          "data": {
            "image/png": "[encoded data removed]",
            "text/plain": [
              "<Figure size 432x288 with 1 Axes>"
            ]
          },
          "metadata": {
            "tags": []
          }
        }
      ]
    },
    {
      "cell_type": "code",
      "metadata": {
        "id": "UhnhdIQTZ9Wj",
        "colab_type": "code",
        "colab": {}
      },
      "source": [
        "kmeans = KMeans(n_clusters=3,init=\"k-means++\",random_state=5)"
      ],
      "execution_count": 0,
      "outputs": []
    },
    {
      "cell_type": "code",
      "metadata": {
        "id": "DVL3oz5caNCD",
        "colab_type": "code",
        "colab": {}
      },
      "source": [
        "model = kmeans.fit(enc_df)"
      ],
      "execution_count": 0,
      "outputs": []
    },
    {
      "cell_type": "code",
      "metadata": {
        "id": "X3fu0If_aWkb",
        "colab_type": "code",
        "colab": {}
      },
      "source": [
        "test_data = [22, 23, 64]\n",
        "test_data = np.array(test_data).reshape(1,-1)"
      ],
      "execution_count": 0,
      "outputs": []
    },
    {
      "cell_type": "code",
      "metadata": {
        "id": "yZyXLUSgatrQ",
        "colab_type": "code",
        "outputId": "c5a22cc8-5863-46e6-f3c9-d7a51cee093d",
        "colab": {
          "base_uri": "https://localhost:8080/",
          "height": 34
        }
      },
      "source": [
        "model.predict(test_data)"
      ],
      "execution_count": 25,
      "outputs": [
        {
          "output_type": "execute_result",
          "data": {
            "text/plain": [
              "array([2], dtype=int32)"
            ]
          },
          "metadata": {
            "tags": []
          },
          "execution_count": 25
        }
      ]
    }
  ]
}