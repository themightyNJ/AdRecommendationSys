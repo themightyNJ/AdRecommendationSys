{
  "nbformat": 4,
  "nbformat_minor": 0,
  "metadata": {
    "colab": {
      "name": "RecommendationSys.ipynb",
      "provenance": [],
      "collapsed_sections": [],
      "authorship_tag": "ABX9TyO0VdFdtOp0T2AlucfUjQ+h",
      "include_colab_link": true
    },
    "kernelspec": {
      "name": "python3",
      "display_name": "Python 3"
    }
  },
  "cells": [
    {
      "cell_type": "markdown",
      "metadata": {
        "id": "view-in-github",
        "colab_type": "text"
      },
      "source": [
        "<a href=\"https://colab.research.google.com/github/themightyNJ/AdRecommendationSys/blob/master/RecommendationSys.ipynb\" target=\"_parent\"><img src=\"https://colab.research.google.com/assets/colab-badge.svg\" alt=\"Open In Colab\"/></a>"
      ]
    },
    {
      "cell_type": "code",
      "metadata": {
        "id": "ff8KaitT3Lxe",
        "colab_type": "code",
        "colab": {}
      },
      "source": [
        "'''Data manipulation libraries'''\n",
        "import numpy as np\n",
        "import pandas as pd"
      ],
      "execution_count": 0,
      "outputs": []
    },
    {
      "cell_type": "code",
      "metadata": {
        "id": "eas3cw0722lT",
        "colab_type": "code",
        "outputId": "59f5587d-c8e6-49eb-9305-8a3f608725fe",
        "colab": {
          "base_uri": "https://localhost:8080/",
          "height": 252
        }
      },
      "source": [
        "'''importing dataset'''\n",
        "datasetPath = \"https://raw.githubusercontent.com/themightyNJ/AdRecommendationSys/master/CoursesDataset_train.json\"\n",
        "coursesDataset = pd.read_json(datasetPath)\n",
        "print(coursesDataset)"
      ],
      "execution_count": 70,
      "outputs": [
        {
          "output_type": "stream",
          "text": [
            "                    Timestamp  ...  Target level\n",
            "0   2020-01-27 19:53:15-05:30  ...  Intermediate\n",
            "1   2020-01-27 19:53:33-05:30  ...       Advance\n",
            "2   2020-01-27 19:54:01-05:30  ...           Hot\n",
            "3   2020-01-27 19:54:40-05:30  ...         Basic\n",
            "4   2020-01-27 19:55:04-05:30  ...  Intermediate\n",
            "..                        ...  ...           ...\n",
            "787 2020-01-28 20:53:30-05:30  ...           Hot\n",
            "788 2020-01-28 20:53:52-05:30  ...  Intermediate\n",
            "789 2020-01-28 20:54:07-05:30  ...       Advance\n",
            "790 2020-01-28 20:54:24-05:30  ...           Hot\n",
            "791 2020-01-28 20:54:46-05:30  ...         Basic\n",
            "\n",
            "[792 rows x 5 columns]\n"
          ],
          "name": "stdout"
        }
      ]
    },
    {
      "cell_type": "code",
      "metadata": {
        "id": "CV1ZxHa23im2",
        "colab_type": "code",
        "outputId": "835186f0-68de-42a3-a20d-1f14a643ce4a",
        "colab": {
          "base_uri": "https://localhost:8080/",
          "height": 195
        }
      },
      "source": [
        "'''Deleting unwanted timestamp column'''\n",
        "coursesDataset = coursesDataset.drop(\"Timestamp\", axis=1)\n",
        "coursesDataset.head()"
      ],
      "execution_count": 71,
      "outputs": [
        {
          "output_type": "execute_result",
          "data": {
            "text/html": [
              "<div>\n",
              "<style scoped>\n",
              "    .dataframe tbody tr th:only-of-type {\n",
              "        vertical-align: middle;\n",
              "    }\n",
              "\n",
              "    .dataframe tbody tr th {\n",
              "        vertical-align: top;\n",
              "    }\n",
              "\n",
              "    .dataframe thead th {\n",
              "        text-align: right;\n",
              "    }\n",
              "</style>\n",
              "<table border=\"1\" class=\"dataframe\">\n",
              "  <thead>\n",
              "    <tr style=\"text-align: right;\">\n",
              "      <th></th>\n",
              "      <th>Current Skills</th>\n",
              "      <th>Current level</th>\n",
              "      <th>Target</th>\n",
              "      <th>Target level</th>\n",
              "    </tr>\n",
              "  </thead>\n",
              "  <tbody>\n",
              "    <tr>\n",
              "      <th>0</th>\n",
              "      <td>python_programming</td>\n",
              "      <td>Basic</td>\n",
              "      <td>python_programming</td>\n",
              "      <td>Intermediate</td>\n",
              "    </tr>\n",
              "    <tr>\n",
              "      <th>1</th>\n",
              "      <td>python_programming</td>\n",
              "      <td>Intermediate</td>\n",
              "      <td>python_programming</td>\n",
              "      <td>Advance</td>\n",
              "    </tr>\n",
              "    <tr>\n",
              "      <th>2</th>\n",
              "      <td>python_programming</td>\n",
              "      <td>Advance</td>\n",
              "      <td>python_programming</td>\n",
              "      <td>Hot</td>\n",
              "    </tr>\n",
              "    <tr>\n",
              "      <th>3</th>\n",
              "      <td>python_programming</td>\n",
              "      <td>Hot</td>\n",
              "      <td>machine_learning</td>\n",
              "      <td>Basic</td>\n",
              "    </tr>\n",
              "    <tr>\n",
              "      <th>4</th>\n",
              "      <td>machine_learning</td>\n",
              "      <td>Basic</td>\n",
              "      <td>machine_learning</td>\n",
              "      <td>Intermediate</td>\n",
              "    </tr>\n",
              "  </tbody>\n",
              "</table>\n",
              "</div>"
            ],
            "text/plain": [
              "       Current Skills Current level              Target  Target level\n",
              "0  python_programming         Basic  python_programming  Intermediate\n",
              "1  python_programming  Intermediate  python_programming       Advance\n",
              "2  python_programming       Advance  python_programming           Hot\n",
              "3  python_programming           Hot    machine_learning         Basic\n",
              "4    machine_learning         Basic    machine_learning  Intermediate"
            ]
          },
          "metadata": {
            "tags": []
          },
          "execution_count": 71
        }
      ]
    },
    {
      "cell_type": "code",
      "metadata": {
        "id": "y78aMDcqeUr_",
        "colab_type": "code",
        "colab": {
          "base_uri": "https://localhost:8080/",
          "height": 343
        },
        "outputId": "b03bd6ef-3fbd-4c88-84b9-043527965892"
      },
      "source": [
        "'''String Manipulation'''\n",
        "coursesDataset[\"Current Skills\"] = [p.replace(\"_\",\"\") for p in coursesDataset[\"Current Skills\"]]\n",
        "coursesDataset[\"Target\"] = [q.replace(\"_\",\"\") for q in coursesDataset[\"Target\"]]\n",
        "coursesDataset[\"Current level\"] = [r.lower() for r in coursesDataset[\"Current level\"]]\n",
        "coursesDataset[\"Target level\"] = [s.lower() for s in coursesDataset[\"Target level\"]]\n",
        "coursesDataset.head(10)"
      ],
      "execution_count": 72,
      "outputs": [
        {
          "output_type": "execute_result",
          "data": {
            "text/html": [
              "<div>\n",
              "<style scoped>\n",
              "    .dataframe tbody tr th:only-of-type {\n",
              "        vertical-align: middle;\n",
              "    }\n",
              "\n",
              "    .dataframe tbody tr th {\n",
              "        vertical-align: top;\n",
              "    }\n",
              "\n",
              "    .dataframe thead th {\n",
              "        text-align: right;\n",
              "    }\n",
              "</style>\n",
              "<table border=\"1\" class=\"dataframe\">\n",
              "  <thead>\n",
              "    <tr style=\"text-align: right;\">\n",
              "      <th></th>\n",
              "      <th>Current Skills</th>\n",
              "      <th>Current level</th>\n",
              "      <th>Target</th>\n",
              "      <th>Target level</th>\n",
              "    </tr>\n",
              "  </thead>\n",
              "  <tbody>\n",
              "    <tr>\n",
              "      <th>0</th>\n",
              "      <td>pythonprogramming</td>\n",
              "      <td>basic</td>\n",
              "      <td>pythonprogramming</td>\n",
              "      <td>intermediate</td>\n",
              "    </tr>\n",
              "    <tr>\n",
              "      <th>1</th>\n",
              "      <td>pythonprogramming</td>\n",
              "      <td>intermediate</td>\n",
              "      <td>pythonprogramming</td>\n",
              "      <td>advance</td>\n",
              "    </tr>\n",
              "    <tr>\n",
              "      <th>2</th>\n",
              "      <td>pythonprogramming</td>\n",
              "      <td>advance</td>\n",
              "      <td>pythonprogramming</td>\n",
              "      <td>hot</td>\n",
              "    </tr>\n",
              "    <tr>\n",
              "      <th>3</th>\n",
              "      <td>pythonprogramming</td>\n",
              "      <td>hot</td>\n",
              "      <td>machinelearning</td>\n",
              "      <td>basic</td>\n",
              "    </tr>\n",
              "    <tr>\n",
              "      <th>4</th>\n",
              "      <td>machinelearning</td>\n",
              "      <td>basic</td>\n",
              "      <td>machinelearning</td>\n",
              "      <td>intermediate</td>\n",
              "    </tr>\n",
              "    <tr>\n",
              "      <th>5</th>\n",
              "      <td>machinelearning</td>\n",
              "      <td>intermediate</td>\n",
              "      <td>machinelearning</td>\n",
              "      <td>advance</td>\n",
              "    </tr>\n",
              "    <tr>\n",
              "      <th>6</th>\n",
              "      <td>machinelearning</td>\n",
              "      <td>advance</td>\n",
              "      <td>machinelearning</td>\n",
              "      <td>hot</td>\n",
              "    </tr>\n",
              "    <tr>\n",
              "      <th>7</th>\n",
              "      <td>machinelearning</td>\n",
              "      <td>hot</td>\n",
              "      <td>artificialintelligence</td>\n",
              "      <td>basic</td>\n",
              "    </tr>\n",
              "    <tr>\n",
              "      <th>8</th>\n",
              "      <td>cybersecurity</td>\n",
              "      <td>basic</td>\n",
              "      <td>cybersecurity</td>\n",
              "      <td>intermediate</td>\n",
              "    </tr>\n",
              "    <tr>\n",
              "      <th>9</th>\n",
              "      <td>cybersecurity</td>\n",
              "      <td>intermediate</td>\n",
              "      <td>cybersecurity</td>\n",
              "      <td>advance</td>\n",
              "    </tr>\n",
              "  </tbody>\n",
              "</table>\n",
              "</div>"
            ],
            "text/plain": [
              "      Current Skills Current level                  Target  Target level\n",
              "0  pythonprogramming         basic       pythonprogramming  intermediate\n",
              "1  pythonprogramming  intermediate       pythonprogramming       advance\n",
              "2  pythonprogramming       advance       pythonprogramming           hot\n",
              "3  pythonprogramming           hot         machinelearning         basic\n",
              "4    machinelearning         basic         machinelearning  intermediate\n",
              "5    machinelearning  intermediate         machinelearning       advance\n",
              "6    machinelearning       advance         machinelearning           hot\n",
              "7    machinelearning           hot  artificialintelligence         basic\n",
              "8      cybersecurity         basic           cybersecurity  intermediate\n",
              "9      cybersecurity  intermediate           cybersecurity       advance"
            ]
          },
          "metadata": {
            "tags": []
          },
          "execution_count": 72
        }
      ]
    },
    {
      "cell_type": "code",
      "metadata": {
        "id": "x8SnceHQ3vwS",
        "colab_type": "code",
        "colab": {}
      },
      "source": [
        "'''Library to encode string data into numerical'''\n",
        "from sklearn.preprocessing import LabelEncoder"
      ],
      "execution_count": 0,
      "outputs": []
    },
    {
      "cell_type": "code",
      "metadata": {
        "id": "FSlfSGxX4w5P",
        "colab_type": "code",
        "outputId": "c2d71d3f-91d4-426c-d840-ba34b352a556",
        "colab": {
          "base_uri": "https://localhost:8080/",
          "height": 823
        }
      },
      "source": [
        "'''Encoding string data into numerical'''\n",
        "le = LabelEncoder()\n",
        "'''Encoding returns numpy type data'''\n",
        "encodedTarget = le.fit_transform(coursesDataset[\"Target\"])\n",
        "encodedTargetLevel = le.fit_transform(coursesDataset[\"Target level\"])\n",
        "encodedSkills = le.fit_transform(coursesDataset[\"Current Skills\"])\n",
        "encodedLevel = le.fit_transform(coursesDataset[\"Current level\"])\n",
        "'''Converting numpy array into pandas series'''\n",
        "encodedTarget = pd.Series(encodedTarget,name = \"Target Skills\")\n",
        "encodedTargetLevel = pd.Series(encodedTargetLevel,name = \"Target Level\")\n",
        "encodedSkills = pd.Series(encodedSkills,name = \"Current Skills\")\n",
        "encodedLevel = pd.Series(encodedLevel,name = \"Current Level\")\n",
        "print(\"encodedTarget = \",encodedTarget,end = \"\\n\")\n",
        "print(\"encodedTargetLevel = \",encodedTargetLevel,end = \"\\n\")\n",
        "print(\"encodedSkills = \",encodedSkills,end = \"\\n\")\n",
        "print(\"encodedLevel = \",encodedLevel,end = \"\\n\")"
      ],
      "execution_count": 74,
      "outputs": [
        {
          "output_type": "stream",
          "text": [
            "encodedTarget =  0      21\n",
            "1      21\n",
            "2      21\n",
            "3      17\n",
            "4      17\n",
            "       ..\n",
            "787     1\n",
            "788    19\n",
            "789    19\n",
            "790    19\n",
            "791    14\n",
            "Name: Target Skills, Length: 792, dtype: int64\n",
            "encodedTargetLevel =  0      3\n",
            "1      0\n",
            "2      2\n",
            "3      1\n",
            "4      3\n",
            "      ..\n",
            "787    2\n",
            "788    3\n",
            "789    0\n",
            "790    2\n",
            "791    1\n",
            "Name: Target Level, Length: 792, dtype: int64\n",
            "encodedSkills =  0      21\n",
            "1      21\n",
            "2      21\n",
            "3      21\n",
            "4      17\n",
            "       ..\n",
            "787     1\n",
            "788    19\n",
            "789    19\n",
            "790    19\n",
            "791    19\n",
            "Name: Current Skills, Length: 792, dtype: int64\n",
            "encodedLevel =  0      1\n",
            "1      3\n",
            "2      0\n",
            "3      2\n",
            "4      1\n",
            "      ..\n",
            "787    0\n",
            "788    1\n",
            "789    3\n",
            "790    0\n",
            "791    2\n",
            "Name: Current Level, Length: 792, dtype: int64\n"
          ],
          "name": "stdout"
        }
      ]
    },
    {
      "cell_type": "code",
      "metadata": {
        "id": "4e289e1F63kv",
        "colab_type": "code",
        "outputId": "86c0b820-b963-4c01-958a-a6348f05181e",
        "colab": {
          "base_uri": "https://localhost:8080/",
          "height": 195
        }
      },
      "source": [
        "'''Combining individual pandas series into pandas dataframe'''\n",
        "encodedDataset = pd.concat([encodedSkills,encodedLevel,encodedTarget,encodedTargetLevel],axis = 1)\n",
        "encodedDataset.head()"
      ],
      "execution_count": 75,
      "outputs": [
        {
          "output_type": "execute_result",
          "data": {
            "text/html": [
              "<div>\n",
              "<style scoped>\n",
              "    .dataframe tbody tr th:only-of-type {\n",
              "        vertical-align: middle;\n",
              "    }\n",
              "\n",
              "    .dataframe tbody tr th {\n",
              "        vertical-align: top;\n",
              "    }\n",
              "\n",
              "    .dataframe thead th {\n",
              "        text-align: right;\n",
              "    }\n",
              "</style>\n",
              "<table border=\"1\" class=\"dataframe\">\n",
              "  <thead>\n",
              "    <tr style=\"text-align: right;\">\n",
              "      <th></th>\n",
              "      <th>Current Skills</th>\n",
              "      <th>Current Level</th>\n",
              "      <th>Target Skills</th>\n",
              "      <th>Target Level</th>\n",
              "    </tr>\n",
              "  </thead>\n",
              "  <tbody>\n",
              "    <tr>\n",
              "      <th>0</th>\n",
              "      <td>21</td>\n",
              "      <td>1</td>\n",
              "      <td>21</td>\n",
              "      <td>3</td>\n",
              "    </tr>\n",
              "    <tr>\n",
              "      <th>1</th>\n",
              "      <td>21</td>\n",
              "      <td>3</td>\n",
              "      <td>21</td>\n",
              "      <td>0</td>\n",
              "    </tr>\n",
              "    <tr>\n",
              "      <th>2</th>\n",
              "      <td>21</td>\n",
              "      <td>0</td>\n",
              "      <td>21</td>\n",
              "      <td>2</td>\n",
              "    </tr>\n",
              "    <tr>\n",
              "      <th>3</th>\n",
              "      <td>21</td>\n",
              "      <td>2</td>\n",
              "      <td>17</td>\n",
              "      <td>1</td>\n",
              "    </tr>\n",
              "    <tr>\n",
              "      <th>4</th>\n",
              "      <td>17</td>\n",
              "      <td>1</td>\n",
              "      <td>17</td>\n",
              "      <td>3</td>\n",
              "    </tr>\n",
              "  </tbody>\n",
              "</table>\n",
              "</div>"
            ],
            "text/plain": [
              "   Current Skills  Current Level  Target Skills  Target Level\n",
              "0              21              1             21             3\n",
              "1              21              3             21             0\n",
              "2              21              0             21             2\n",
              "3              21              2             17             1\n",
              "4              17              1             17             3"
            ]
          },
          "metadata": {
            "tags": []
          },
          "execution_count": 75
        }
      ]
    },
    {
      "cell_type": "code",
      "metadata": {
        "id": "VZBR2A6q8Crj",
        "colab_type": "code",
        "colab": {}
      },
      "source": [
        "'''Library for Exploratory Data Analysis (EDA)'''\n",
        "import matplotlib.pyplot as plt\n",
        "%matplotlib inline\n",
        "import seaborn as sns"
      ],
      "execution_count": 0,
      "outputs": []
    },
    {
      "cell_type": "code",
      "metadata": {
        "id": "o6lXxUdi8TEy",
        "colab_type": "code",
        "colab": {}
      },
      "source": [
        "x = encodedDataset[[\"Current Skills\",\"Current Level\"]]\n",
        "y = encodedDataset[[\"Target Skills\",\"Target Level\"]]"
      ],
      "execution_count": 0,
      "outputs": []
    },
    {
      "cell_type": "code",
      "metadata": {
        "id": "m49iY0M98XUA",
        "colab_type": "code",
        "outputId": "f74209c6-da7c-45f0-bee5-edd33f7a4117",
        "colab": {
          "base_uri": "https://localhost:8080/",
          "height": 757
        }
      },
      "source": [
        "sns.pairplot(x)\n",
        "plt.show()\n",
        "sns.pairplot(y)\n",
        "plt.show()"
      ],
      "execution_count": 78,
      "outputs": [
        {
          "output_type": "display_data",
          "data": {
            "image/png": "[encoded data removed]",
            "text/plain": [
              "<Figure size 360x360 with 6 Axes>"
            ]
          },
          "metadata": {
            "tags": []
          }
        },
        {
          "output_type": "display_data",
          "data": {
            "image/png": "[encoded data removed]",
            "text/plain": [
              "<Figure size 360x360 with 6 Axes>"
            ]
          },
          "metadata": {
            "tags": []
          }
        }
      ]
    },
    {
      "cell_type": "code",
      "metadata": {
        "id": "fpTaWoEmsmt4",
        "colab_type": "code",
        "outputId": "2ae4239a-f0c1-40f8-ec70-76f075b2b3c3",
        "colab": {
          "base_uri": "https://localhost:8080/",
          "height": 296
        }
      },
      "source": [
        "sns.regplot(x[\"Current Skills\"],y[\"Target Skills\"])"
      ],
      "execution_count": 79,
      "outputs": [
        {
          "output_type": "execute_result",
          "data": {
            "text/plain": [
              "<matplotlib.axes._subplots.AxesSubplot at 0x7f8ebf100c88>"
            ]
          },
          "metadata": {
            "tags": []
          },
          "execution_count": 79
        },
        {
          "output_type": "display_data",
          "data": {
            "image/png": "[encoded data removed]",
            "text/plain": [
              "<Figure size 432x288 with 1 Axes>"
            ]
          },
          "metadata": {
            "tags": []
          }
        }
      ]
    },
    {
      "cell_type": "code",
      "metadata": {
        "id": "aSfLIzW6scmS",
        "colab_type": "code",
        "outputId": "4b3fd06f-93a1-41bd-b04a-0cc6aa4a01e7",
        "colab": {
          "base_uri": "https://localhost:8080/",
          "height": 134
        }
      },
      "source": [
        "'''Random Forest'''\n",
        "from sklearn.ensemble import RandomForestRegressor\n",
        "regressor = RandomForestRegressor(n_estimators = 100, random_state = 0)\n",
        "regressor.fit(x,y)"
      ],
      "execution_count": 80,
      "outputs": [
        {
          "output_type": "execute_result",
          "data": {
            "text/plain": [
              "RandomForestRegressor(bootstrap=True, ccp_alpha=0.0, criterion='mse',\n",
              "                      max_depth=None, max_features='auto', max_leaf_nodes=None,\n",
              "                      max_samples=None, min_impurity_decrease=0.0,\n",
              "                      min_impurity_split=None, min_samples_leaf=1,\n",
              "                      min_samples_split=2, min_weight_fraction_leaf=0.0,\n",
              "                      n_estimators=100, n_jobs=None, oob_score=False,\n",
              "                      random_state=0, verbose=0, warm_start=False)"
            ]
          },
          "metadata": {
            "tags": []
          },
          "execution_count": 80
        }
      ]
    },
    {
      "cell_type": "code",
      "metadata": {
        "id": "QsEWswiiyfiS",
        "colab_type": "code",
        "outputId": "df945e8a-8b58-4a31-d195-6aee35976a4b",
        "colab": {
          "base_uri": "https://localhost:8080/",
          "height": 252
        }
      },
      "source": [
        "'''importing test dataset'''\n",
        "testdatasetPath = \"https://raw.githubusercontent.com/themightyNJ/AdRecommendationSys/master/CoursesDataset_test.json\"\n",
        "testcoursesDataset = pd.read_json(testdatasetPath)\n",
        "print(testcoursesDataset)"
      ],
      "execution_count": 81,
      "outputs": [
        {
          "output_type": "stream",
          "text": [
            "                   Timestamp  ...  Target level\n",
            "0  2020-01-27 19:53:15-05:30  ...  Intermediate\n",
            "1  2020-01-27 19:53:33-05:30  ...       Advance\n",
            "2  2020-01-27 19:54:01-05:30  ...           Hot\n",
            "3  2020-01-27 19:54:40-05:30  ...         Basic\n",
            "4  2020-01-27 19:55:04-05:30  ...  Intermediate\n",
            "..                       ...  ...           ...\n",
            "94 2020-01-28 20:53:30-05:30  ...           Hot\n",
            "95 2020-01-28 20:53:52-05:30  ...  Intermediate\n",
            "96 2020-01-28 20:54:07-05:30  ...       Advance\n",
            "97 2020-01-28 20:54:24-05:30  ...           Hot\n",
            "98 2020-01-28 20:54:46-05:30  ...         Basic\n",
            "\n",
            "[99 rows x 5 columns]\n"
          ],
          "name": "stdout"
        }
      ]
    },
    {
      "cell_type": "code",
      "metadata": {
        "id": "6qlPSpCD7I-v",
        "colab_type": "code",
        "outputId": "a67cc143-4dca-4978-9e68-ca5fa6d7d1d7",
        "colab": {
          "base_uri": "https://localhost:8080/",
          "height": 195
        }
      },
      "source": [
        "'''Deleting unwanted timestamp column'''\n",
        "testcoursesDataset = testcoursesDataset.drop(\"Timestamp\", axis=1)\n",
        "testcoursesDataset.head()"
      ],
      "execution_count": 82,
      "outputs": [
        {
          "output_type": "execute_result",
          "data": {
            "text/html": [
              "<div>\n",
              "<style scoped>\n",
              "    .dataframe tbody tr th:only-of-type {\n",
              "        vertical-align: middle;\n",
              "    }\n",
              "\n",
              "    .dataframe tbody tr th {\n",
              "        vertical-align: top;\n",
              "    }\n",
              "\n",
              "    .dataframe thead th {\n",
              "        text-align: right;\n",
              "    }\n",
              "</style>\n",
              "<table border=\"1\" class=\"dataframe\">\n",
              "  <thead>\n",
              "    <tr style=\"text-align: right;\">\n",
              "      <th></th>\n",
              "      <th>Current Skills</th>\n",
              "      <th>Current level</th>\n",
              "      <th>Target</th>\n",
              "      <th>Target level</th>\n",
              "    </tr>\n",
              "  </thead>\n",
              "  <tbody>\n",
              "    <tr>\n",
              "      <th>0</th>\n",
              "      <td>python_programming</td>\n",
              "      <td>Basic</td>\n",
              "      <td>python_programming</td>\n",
              "      <td>Intermediate</td>\n",
              "    </tr>\n",
              "    <tr>\n",
              "      <th>1</th>\n",
              "      <td>python_programming</td>\n",
              "      <td>Intermediate</td>\n",
              "      <td>python_programming</td>\n",
              "      <td>Advance</td>\n",
              "    </tr>\n",
              "    <tr>\n",
              "      <th>2</th>\n",
              "      <td>python_programming</td>\n",
              "      <td>Advance</td>\n",
              "      <td>python_programming</td>\n",
              "      <td>Hot</td>\n",
              "    </tr>\n",
              "    <tr>\n",
              "      <th>3</th>\n",
              "      <td>python_programming</td>\n",
              "      <td>Hot</td>\n",
              "      <td>machine_learning</td>\n",
              "      <td>Basic</td>\n",
              "    </tr>\n",
              "    <tr>\n",
              "      <th>4</th>\n",
              "      <td>machine_learning</td>\n",
              "      <td>Basic</td>\n",
              "      <td>machine_learning</td>\n",
              "      <td>Intermediate</td>\n",
              "    </tr>\n",
              "  </tbody>\n",
              "</table>\n",
              "</div>"
            ],
            "text/plain": [
              "       Current Skills Current level              Target  Target level\n",
              "0  python_programming         Basic  python_programming  Intermediate\n",
              "1  python_programming  Intermediate  python_programming       Advance\n",
              "2  python_programming       Advance  python_programming           Hot\n",
              "3  python_programming           Hot    machine_learning         Basic\n",
              "4    machine_learning         Basic    machine_learning  Intermediate"
            ]
          },
          "metadata": {
            "tags": []
          },
          "execution_count": 82
        }
      ]
    },
    {
      "cell_type": "code",
      "metadata": {
        "id": "2SC4fT_aaEIe",
        "colab_type": "code",
        "colab": {
          "base_uri": "https://localhost:8080/",
          "height": 343
        },
        "outputId": "dc25910d-dac6-48a5-a467-5332e9699318"
      },
      "source": [
        "'''String Manipulation'''\n",
        "testcoursesDataset[\"Current Skills\"] = [p.replace(\"_\",\"\") for p in testcoursesDataset[\"Current Skills\"]]\n",
        "testcoursesDataset[\"Target\"] = [q.replace(\"_\",\"\") for q in testcoursesDataset[\"Target\"]]\n",
        "testcoursesDataset[\"Current level\"] = [r.lower() for r in testcoursesDataset[\"Current level\"]]\n",
        "testcoursesDataset[\"Target level\"] = [s.lower() for s in testcoursesDataset[\"Target level\"]]\n",
        "testcoursesDataset.head(10)"
      ],
      "execution_count": 83,
      "outputs": [
        {
          "output_type": "execute_result",
          "data": {
            "text/html": [
              "<div>\n",
              "<style scoped>\n",
              "    .dataframe tbody tr th:only-of-type {\n",
              "        vertical-align: middle;\n",
              "    }\n",
              "\n",
              "    .dataframe tbody tr th {\n",
              "        vertical-align: top;\n",
              "    }\n",
              "\n",
              "    .dataframe thead th {\n",
              "        text-align: right;\n",
              "    }\n",
              "</style>\n",
              "<table border=\"1\" class=\"dataframe\">\n",
              "  <thead>\n",
              "    <tr style=\"text-align: right;\">\n",
              "      <th></th>\n",
              "      <th>Current Skills</th>\n",
              "      <th>Current level</th>\n",
              "      <th>Target</th>\n",
              "      <th>Target level</th>\n",
              "    </tr>\n",
              "  </thead>\n",
              "  <tbody>\n",
              "    <tr>\n",
              "      <th>0</th>\n",
              "      <td>pythonprogramming</td>\n",
              "      <td>basic</td>\n",
              "      <td>pythonprogramming</td>\n",
              "      <td>intermediate</td>\n",
              "    </tr>\n",
              "    <tr>\n",
              "      <th>1</th>\n",
              "      <td>pythonprogramming</td>\n",
              "      <td>intermediate</td>\n",
              "      <td>pythonprogramming</td>\n",
              "      <td>advance</td>\n",
              "    </tr>\n",
              "    <tr>\n",
              "      <th>2</th>\n",
              "      <td>pythonprogramming</td>\n",
              "      <td>advance</td>\n",
              "      <td>pythonprogramming</td>\n",
              "      <td>hot</td>\n",
              "    </tr>\n",
              "    <tr>\n",
              "      <th>3</th>\n",
              "      <td>pythonprogramming</td>\n",
              "      <td>hot</td>\n",
              "      <td>machinelearning</td>\n",
              "      <td>basic</td>\n",
              "    </tr>\n",
              "    <tr>\n",
              "      <th>4</th>\n",
              "      <td>machinelearning</td>\n",
              "      <td>basic</td>\n",
              "      <td>machinelearning</td>\n",
              "      <td>intermediate</td>\n",
              "    </tr>\n",
              "    <tr>\n",
              "      <th>5</th>\n",
              "      <td>machinelearning</td>\n",
              "      <td>intermediate</td>\n",
              "      <td>machinelearning</td>\n",
              "      <td>advance</td>\n",
              "    </tr>\n",
              "    <tr>\n",
              "      <th>6</th>\n",
              "      <td>machinelearning</td>\n",
              "      <td>advance</td>\n",
              "      <td>machinelearning</td>\n",
              "      <td>hot</td>\n",
              "    </tr>\n",
              "    <tr>\n",
              "      <th>7</th>\n",
              "      <td>machinelearning</td>\n",
              "      <td>hot</td>\n",
              "      <td>artificialintelligence</td>\n",
              "      <td>basic</td>\n",
              "    </tr>\n",
              "    <tr>\n",
              "      <th>8</th>\n",
              "      <td>cybersecurity</td>\n",
              "      <td>basic</td>\n",
              "      <td>cybersecurity</td>\n",
              "      <td>intermediate</td>\n",
              "    </tr>\n",
              "    <tr>\n",
              "      <th>9</th>\n",
              "      <td>cybersecurity</td>\n",
              "      <td>intermediate</td>\n",
              "      <td>cybersecurity</td>\n",
              "      <td>advance</td>\n",
              "    </tr>\n",
              "  </tbody>\n",
              "</table>\n",
              "</div>"
            ],
            "text/plain": [
              "      Current Skills Current level                  Target  Target level\n",
              "0  pythonprogramming         basic       pythonprogramming  intermediate\n",
              "1  pythonprogramming  intermediate       pythonprogramming       advance\n",
              "2  pythonprogramming       advance       pythonprogramming           hot\n",
              "3  pythonprogramming           hot         machinelearning         basic\n",
              "4    machinelearning         basic         machinelearning  intermediate\n",
              "5    machinelearning  intermediate         machinelearning       advance\n",
              "6    machinelearning       advance         machinelearning           hot\n",
              "7    machinelearning           hot  artificialintelligence         basic\n",
              "8      cybersecurity         basic           cybersecurity  intermediate\n",
              "9      cybersecurity  intermediate           cybersecurity       advance"
            ]
          },
          "metadata": {
            "tags": []
          },
          "execution_count": 83
        }
      ]
    },
    {
      "cell_type": "code",
      "metadata": {
        "id": "A-GCqkbw7rHN",
        "colab_type": "code",
        "outputId": "6b7e1c2f-3a22-477d-ca88-488f43b45740",
        "colab": {
          "base_uri": "https://localhost:8080/",
          "height": 823
        }
      },
      "source": [
        "'''Encoding returns numpy type data'''\n",
        "testencodedTarget = le.fit_transform(testcoursesDataset[\"Target\"])\n",
        "testencodedTargetLevel = le.fit_transform(testcoursesDataset[\"Target level\"])\n",
        "testencodedSkills = le.fit_transform(testcoursesDataset[\"Current Skills\"])\n",
        "testencodedLevel = le.fit_transform(testcoursesDataset[\"Current level\"])\n",
        "'''Converting numpy array into pandas series'''\n",
        "testencodedTarget = pd.Series(testencodedTarget,name = \"Target Skills\")\n",
        "testencodedTargetLevel = pd.Series(testencodedTargetLevel,name = \"Target Level\")\n",
        "testencodedSkills = pd.Series(testencodedSkills,name = \"Current Skills\")\n",
        "testencodedLevel = pd.Series(testencodedLevel,name = \"Current Level\")\n",
        "print(\"encodedTarget = \",testencodedTarget,end = \"\\n\")\n",
        "print(\"encodedTargetLevel = \",testencodedTargetLevel,end = \"\\n\")\n",
        "print(\"encodedSkills = \",testencodedSkills,end = \"\\n\")\n",
        "print(\"encodedLevel = \",testencodedLevel,end = \"\\n\")"
      ],
      "execution_count": 84,
      "outputs": [
        {
          "output_type": "stream",
          "text": [
            "encodedTarget =  0     21\n",
            "1     21\n",
            "2     21\n",
            "3     17\n",
            "4     17\n",
            "      ..\n",
            "94     1\n",
            "95    19\n",
            "96    19\n",
            "97    19\n",
            "98    14\n",
            "Name: Target Skills, Length: 99, dtype: int64\n",
            "encodedTargetLevel =  0     3\n",
            "1     0\n",
            "2     2\n",
            "3     1\n",
            "4     3\n",
            "     ..\n",
            "94    2\n",
            "95    3\n",
            "96    0\n",
            "97    2\n",
            "98    1\n",
            "Name: Target Level, Length: 99, dtype: int64\n",
            "encodedSkills =  0     21\n",
            "1     21\n",
            "2     21\n",
            "3     21\n",
            "4     17\n",
            "      ..\n",
            "94     1\n",
            "95    19\n",
            "96    19\n",
            "97    19\n",
            "98    19\n",
            "Name: Current Skills, Length: 99, dtype: int64\n",
            "encodedLevel =  0     1\n",
            "1     3\n",
            "2     0\n",
            "3     2\n",
            "4     1\n",
            "     ..\n",
            "94    0\n",
            "95    1\n",
            "96    3\n",
            "97    0\n",
            "98    2\n",
            "Name: Current Level, Length: 99, dtype: int64\n"
          ],
          "name": "stdout"
        }
      ]
    },
    {
      "cell_type": "code",
      "metadata": {
        "id": "I6RHHlN68Zxa",
        "colab_type": "code",
        "outputId": "0b7f6ab0-f6e3-4ba3-a6cc-ecea376078f3",
        "colab": {
          "base_uri": "https://localhost:8080/",
          "height": 195
        }
      },
      "source": [
        "'''Combining individual pandas series into pandas dataframe'''\n",
        "testencodedDataset = pd.concat([testencodedSkills,testencodedLevel,testencodedTarget,testencodedTargetLevel],axis = 1)\n",
        "testencodedDataset.head()"
      ],
      "execution_count": 85,
      "outputs": [
        {
          "output_type": "execute_result",
          "data": {
            "text/html": [
              "<div>\n",
              "<style scoped>\n",
              "    .dataframe tbody tr th:only-of-type {\n",
              "        vertical-align: middle;\n",
              "    }\n",
              "\n",
              "    .dataframe tbody tr th {\n",
              "        vertical-align: top;\n",
              "    }\n",
              "\n",
              "    .dataframe thead th {\n",
              "        text-align: right;\n",
              "    }\n",
              "</style>\n",
              "<table border=\"1\" class=\"dataframe\">\n",
              "  <thead>\n",
              "    <tr style=\"text-align: right;\">\n",
              "      <th></th>\n",
              "      <th>Current Skills</th>\n",
              "      <th>Current Level</th>\n",
              "      <th>Target Skills</th>\n",
              "      <th>Target Level</th>\n",
              "    </tr>\n",
              "  </thead>\n",
              "  <tbody>\n",
              "    <tr>\n",
              "      <th>0</th>\n",
              "      <td>21</td>\n",
              "      <td>1</td>\n",
              "      <td>21</td>\n",
              "      <td>3</td>\n",
              "    </tr>\n",
              "    <tr>\n",
              "      <th>1</th>\n",
              "      <td>21</td>\n",
              "      <td>3</td>\n",
              "      <td>21</td>\n",
              "      <td>0</td>\n",
              "    </tr>\n",
              "    <tr>\n",
              "      <th>2</th>\n",
              "      <td>21</td>\n",
              "      <td>0</td>\n",
              "      <td>21</td>\n",
              "      <td>2</td>\n",
              "    </tr>\n",
              "    <tr>\n",
              "      <th>3</th>\n",
              "      <td>21</td>\n",
              "      <td>2</td>\n",
              "      <td>17</td>\n",
              "      <td>1</td>\n",
              "    </tr>\n",
              "    <tr>\n",
              "      <th>4</th>\n",
              "      <td>17</td>\n",
              "      <td>1</td>\n",
              "      <td>17</td>\n",
              "      <td>3</td>\n",
              "    </tr>\n",
              "  </tbody>\n",
              "</table>\n",
              "</div>"
            ],
            "text/plain": [
              "   Current Skills  Current Level  Target Skills  Target Level\n",
              "0              21              1             21             3\n",
              "1              21              3             21             0\n",
              "2              21              0             21             2\n",
              "3              21              2             17             1\n",
              "4              17              1             17             3"
            ]
          },
          "metadata": {
            "tags": []
          },
          "execution_count": 85
        }
      ]
    },
    {
      "cell_type": "code",
      "metadata": {
        "id": "uwjT8YVR8oPE",
        "colab_type": "code",
        "colab": {}
      },
      "source": [
        "x_test = testencodedDataset[[\"Current Skills\",\"Current Level\"]]\n",
        "y_test = testencodedDataset[[\"Target Skills\",\"Target Level\"]]"
      ],
      "execution_count": 0,
      "outputs": []
    },
    {
      "cell_type": "code",
      "metadata": {
        "id": "hl87uSaP8zxO",
        "colab_type": "code",
        "colab": {}
      },
      "source": [
        "y_pred  = regressor.predict(x_test)"
      ],
      "execution_count": 0,
      "outputs": []
    },
    {
      "cell_type": "code",
      "metadata": {
        "id": "s9dQD4Xf9B9m",
        "colab_type": "code",
        "outputId": "5397ad18-2bd5-4b30-c8dc-e6ef1902312e",
        "colab": {
          "base_uri": "https://localhost:8080/",
          "height": 87
        }
      },
      "source": [
        "regressor.score(x_test, y_pred)"
      ],
      "execution_count": 88,
      "outputs": [
        {
          "output_type": "stream",
          "text": [
            "/usr/local/lib/python3.6/dist-packages/sklearn/base.py:434: FutureWarning: The default value of multioutput (not exposed in score method) will change from 'variance_weighted' to 'uniform_average' in 0.23 to keep consistent with 'metrics.r2_score'. To specify the default value manually and avoid the warning, please either call 'metrics.r2_score' directly or make a custom scorer with 'metrics.make_scorer' (the built-in scorer 'r2' uses multioutput='uniform_average').\n",
            "  \"multioutput='uniform_average').\", FutureWarning)\n"
          ],
          "name": "stderr"
        },
        {
          "output_type": "execute_result",
          "data": {
            "text/plain": [
              "1.0"
            ]
          },
          "metadata": {
            "tags": []
          },
          "execution_count": 88
        }
      ]
    },
    {
      "cell_type": "code",
      "metadata": {
        "id": "mo8cV1rkCSdg",
        "colab_type": "code",
        "outputId": "2c6d0397-32fd-448e-a69b-1a80d998a669",
        "colab": {
          "base_uri": "https://localhost:8080/",
          "height": 34
        }
      },
      "source": [
        "type(y_test)"
      ],
      "execution_count": 89,
      "outputs": [
        {
          "output_type": "execute_result",
          "data": {
            "text/plain": [
              "pandas.core.frame.DataFrame"
            ]
          },
          "metadata": {
            "tags": []
          },
          "execution_count": 89
        }
      ]
    },
    {
      "cell_type": "code",
      "metadata": {
        "id": "9hQw6NytCbsC",
        "colab_type": "code",
        "outputId": "77e6e684-e248-491f-eb9f-7ffccb255579",
        "colab": {
          "base_uri": "https://localhost:8080/",
          "height": 34
        }
      },
      "source": [
        "type(y_pred)"
      ],
      "execution_count": 90,
      "outputs": [
        {
          "output_type": "execute_result",
          "data": {
            "text/plain": [
              "numpy.ndarray"
            ]
          },
          "metadata": {
            "tags": []
          },
          "execution_count": 90
        }
      ]
    },
    {
      "cell_type": "code",
      "metadata": {
        "id": "SL1KLwbaCkce",
        "colab_type": "code",
        "outputId": "2ffeea41-453f-4d64-bcdf-9065ccaf18ff",
        "colab": {
          "base_uri": "https://localhost:8080/",
          "height": 402
        }
      },
      "source": [
        "y_test"
      ],
      "execution_count": 91,
      "outputs": [
        {
          "output_type": "execute_result",
          "data": {
            "text/html": [
              "<div>\n",
              "<style scoped>\n",
              "    .dataframe tbody tr th:only-of-type {\n",
              "        vertical-align: middle;\n",
              "    }\n",
              "\n",
              "    .dataframe tbody tr th {\n",
              "        vertical-align: top;\n",
              "    }\n",
              "\n",
              "    .dataframe thead th {\n",
              "        text-align: right;\n",
              "    }\n",
              "</style>\n",
              "<table border=\"1\" class=\"dataframe\">\n",
              "  <thead>\n",
              "    <tr style=\"text-align: right;\">\n",
              "      <th></th>\n",
              "      <th>Target Skills</th>\n",
              "      <th>Target Level</th>\n",
              "    </tr>\n",
              "  </thead>\n",
              "  <tbody>\n",
              "    <tr>\n",
              "      <th>0</th>\n",
              "      <td>21</td>\n",
              "      <td>3</td>\n",
              "    </tr>\n",
              "    <tr>\n",
              "      <th>1</th>\n",
              "      <td>21</td>\n",
              "      <td>0</td>\n",
              "    </tr>\n",
              "    <tr>\n",
              "      <th>2</th>\n",
              "      <td>21</td>\n",
              "      <td>2</td>\n",
              "    </tr>\n",
              "    <tr>\n",
              "      <th>3</th>\n",
              "      <td>17</td>\n",
              "      <td>1</td>\n",
              "    </tr>\n",
              "    <tr>\n",
              "      <th>4</th>\n",
              "      <td>17</td>\n",
              "      <td>3</td>\n",
              "    </tr>\n",
              "    <tr>\n",
              "      <th>...</th>\n",
              "      <td>...</td>\n",
              "      <td>...</td>\n",
              "    </tr>\n",
              "    <tr>\n",
              "      <th>94</th>\n",
              "      <td>1</td>\n",
              "      <td>2</td>\n",
              "    </tr>\n",
              "    <tr>\n",
              "      <th>95</th>\n",
              "      <td>19</td>\n",
              "      <td>3</td>\n",
              "    </tr>\n",
              "    <tr>\n",
              "      <th>96</th>\n",
              "      <td>19</td>\n",
              "      <td>0</td>\n",
              "    </tr>\n",
              "    <tr>\n",
              "      <th>97</th>\n",
              "      <td>19</td>\n",
              "      <td>2</td>\n",
              "    </tr>\n",
              "    <tr>\n",
              "      <th>98</th>\n",
              "      <td>14</td>\n",
              "      <td>1</td>\n",
              "    </tr>\n",
              "  </tbody>\n",
              "</table>\n",
              "<p>99 rows × 2 columns</p>\n",
              "</div>"
            ],
            "text/plain": [
              "    Target Skills  Target Level\n",
              "0              21             3\n",
              "1              21             0\n",
              "2              21             2\n",
              "3              17             1\n",
              "4              17             3\n",
              "..            ...           ...\n",
              "94              1             2\n",
              "95             19             3\n",
              "96             19             0\n",
              "97             19             2\n",
              "98             14             1\n",
              "\n",
              "[99 rows x 2 columns]"
            ]
          },
          "metadata": {
            "tags": []
          },
          "execution_count": 91
        }
      ]
    },
    {
      "cell_type": "code",
      "metadata": {
        "id": "BVwDd6o3E1hK",
        "colab_type": "code",
        "colab": {}
      },
      "source": [
        "y_pred = pd.DataFrame(y_pred)"
      ],
      "execution_count": 0,
      "outputs": []
    },
    {
      "cell_type": "code",
      "metadata": {
        "id": "jixkF5flE5ef",
        "colab_type": "code",
        "colab": {}
      },
      "source": [
        "y_pred = y_pred.astype(int)"
      ],
      "execution_count": 0,
      "outputs": []
    },
    {
      "cell_type": "code",
      "metadata": {
        "id": "s7IZp1pzFGQ5",
        "colab_type": "code",
        "colab": {}
      },
      "source": [
        "result = pd.concat([y_test,y_pred],axis = 1)"
      ],
      "execution_count": 0,
      "outputs": []
    },
    {
      "cell_type": "code",
      "metadata": {
        "id": "6IzBfsDlGbO9",
        "colab_type": "code",
        "outputId": "fafca66a-46f2-4734-e1a3-7a6dd249ea4d",
        "colab": {
          "base_uri": "https://localhost:8080/",
          "height": 252
        }
      },
      "source": [
        "print(result)"
      ],
      "execution_count": 95,
      "outputs": [
        {
          "output_type": "stream",
          "text": [
            "    Target Skills  Target Level   0  1\n",
            "0              21             3  21  3\n",
            "1              21             0  21  0\n",
            "2              21             2  21  2\n",
            "3              17             1  17  1\n",
            "4              17             3  17  3\n",
            "..            ...           ...  .. ..\n",
            "94              1             2   1  2\n",
            "95             19             3  19  3\n",
            "96             19             0  19  0\n",
            "97             19             2  19  2\n",
            "98             14             1  14  1\n",
            "\n",
            "[99 rows x 4 columns]\n"
          ],
          "name": "stdout"
        }
      ]
    },
    {
      "cell_type": "code",
      "metadata": {
        "id": "Dr9tB4huHetX",
        "colab_type": "code",
        "outputId": "4ea6572a-b313-4eea-c59b-fb39bcc6fd00",
        "colab": {
          "base_uri": "https://localhost:8080/",
          "height": 402
        }
      },
      "source": [
        "result.rename(columns={0 : \"Pred Skills\",1 : \"Pred Level\"})"
      ],
      "execution_count": 96,
      "outputs": [
        {
          "output_type": "execute_result",
          "data": {
            "text/html": [
              "<div>\n",
              "<style scoped>\n",
              "    .dataframe tbody tr th:only-of-type {\n",
              "        vertical-align: middle;\n",
              "    }\n",
              "\n",
              "    .dataframe tbody tr th {\n",
              "        vertical-align: top;\n",
              "    }\n",
              "\n",
              "    .dataframe thead th {\n",
              "        text-align: right;\n",
              "    }\n",
              "</style>\n",
              "<table border=\"1\" class=\"dataframe\">\n",
              "  <thead>\n",
              "    <tr style=\"text-align: right;\">\n",
              "      <th></th>\n",
              "      <th>Target Skills</th>\n",
              "      <th>Target Level</th>\n",
              "      <th>Pred Skills</th>\n",
              "      <th>Pred Level</th>\n",
              "    </tr>\n",
              "  </thead>\n",
              "  <tbody>\n",
              "    <tr>\n",
              "      <th>0</th>\n",
              "      <td>21</td>\n",
              "      <td>3</td>\n",
              "      <td>21</td>\n",
              "      <td>3</td>\n",
              "    </tr>\n",
              "    <tr>\n",
              "      <th>1</th>\n",
              "      <td>21</td>\n",
              "      <td>0</td>\n",
              "      <td>21</td>\n",
              "      <td>0</td>\n",
              "    </tr>\n",
              "    <tr>\n",
              "      <th>2</th>\n",
              "      <td>21</td>\n",
              "      <td>2</td>\n",
              "      <td>21</td>\n",
              "      <td>2</td>\n",
              "    </tr>\n",
              "    <tr>\n",
              "      <th>3</th>\n",
              "      <td>17</td>\n",
              "      <td>1</td>\n",
              "      <td>17</td>\n",
              "      <td>1</td>\n",
              "    </tr>\n",
              "    <tr>\n",
              "      <th>4</th>\n",
              "      <td>17</td>\n",
              "      <td>3</td>\n",
              "      <td>17</td>\n",
              "      <td>3</td>\n",
              "    </tr>\n",
              "    <tr>\n",
              "      <th>...</th>\n",
              "      <td>...</td>\n",
              "      <td>...</td>\n",
              "      <td>...</td>\n",
              "      <td>...</td>\n",
              "    </tr>\n",
              "    <tr>\n",
              "      <th>94</th>\n",
              "      <td>1</td>\n",
              "      <td>2</td>\n",
              "      <td>1</td>\n",
              "      <td>2</td>\n",
              "    </tr>\n",
              "    <tr>\n",
              "      <th>95</th>\n",
              "      <td>19</td>\n",
              "      <td>3</td>\n",
              "      <td>19</td>\n",
              "      <td>3</td>\n",
              "    </tr>\n",
              "    <tr>\n",
              "      <th>96</th>\n",
              "      <td>19</td>\n",
              "      <td>0</td>\n",
              "      <td>19</td>\n",
              "      <td>0</td>\n",
              "    </tr>\n",
              "    <tr>\n",
              "      <th>97</th>\n",
              "      <td>19</td>\n",
              "      <td>2</td>\n",
              "      <td>19</td>\n",
              "      <td>2</td>\n",
              "    </tr>\n",
              "    <tr>\n",
              "      <th>98</th>\n",
              "      <td>14</td>\n",
              "      <td>1</td>\n",
              "      <td>14</td>\n",
              "      <td>1</td>\n",
              "    </tr>\n",
              "  </tbody>\n",
              "</table>\n",
              "<p>99 rows × 4 columns</p>\n",
              "</div>"
            ],
            "text/plain": [
              "    Target Skills  Target Level  Pred Skills  Pred Level\n",
              "0              21             3           21           3\n",
              "1              21             0           21           0\n",
              "2              21             2           21           2\n",
              "3              17             1           17           1\n",
              "4              17             3           17           3\n",
              "..            ...           ...          ...         ...\n",
              "94              1             2            1           2\n",
              "95             19             3           19           3\n",
              "96             19             0           19           0\n",
              "97             19             2           19           2\n",
              "98             14             1           14           1\n",
              "\n",
              "[99 rows x 4 columns]"
            ]
          },
          "metadata": {
            "tags": []
          },
          "execution_count": 96
        }
      ]
    }
  ]
}